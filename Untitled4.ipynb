{
  "nbformat": 4,
  "nbformat_minor": 0,
  "metadata": {
    "colab": {
      "name": "Untitled4.ipynb",
      "provenance": [],
      "collapsed_sections": []
    },
    "kernelspec": {
      "name": "python3",
      "display_name": "Python 3"
    },
    "language_info": {
      "name": "python"
    }
  },
  "cells": [
    {
      "cell_type": "code",
      "execution_count": 1,
      "metadata": {
        "id": "vu3aRaxWe3On"
      },
      "outputs": [],
      "source": [
        "#!pip install openpyxl==3.0.0"
      ]
    },
    {
      "cell_type": "code",
      "source": [
        "import pandas as pd\n",
        "import numpy as np\n",
        "from sklearn.feature_extraction.text import CountVectorizer, TfidfVectorizer\n",
        "from sklearn.metrics.pairwise import cosine_similarity"
      ],
      "metadata": {
        "id": "ZpDdNJUce8NE"
      },
      "execution_count": 2,
      "outputs": []
    },
    {
      "cell_type": "code",
      "source": [
        "df = pd.read_excel('/content/supermarket_sales - Sheet12.xlsx')"
      ],
      "metadata": {
        "id": "qH3xXla5fWZE"
      },
      "execution_count": 3,
      "outputs": []
    },
    {
      "cell_type": "code",
      "source": [
        "df.head(3)"
      ],
      "metadata": {
        "colab": {
          "base_uri": "https://localhost:8080/",
          "height": 143
        },
        "id": "p_u2A5R4fsxR",
        "outputId": "dd7a7f3e-360d-4db0-85f1-17d2797e1b8b"
      },
      "execution_count": 4,
      "outputs": [
        {
          "output_type": "execute_result",
          "data": {
            "text/html": [
              "\n",
              "  <div id=\"df-ac63adca-d82a-47ac-982d-4e55ac70e994\">\n",
              "    <div class=\"colab-df-container\">\n",
              "      <div>\n",
              "<style scoped>\n",
              "    .dataframe tbody tr th:only-of-type {\n",
              "        vertical-align: middle;\n",
              "    }\n",
              "\n",
              "    .dataframe tbody tr th {\n",
              "        vertical-align: top;\n",
              "    }\n",
              "\n",
              "    .dataframe thead th {\n",
              "        text-align: right;\n",
              "    }\n",
              "</style>\n",
              "<table border=\"1\" class=\"dataframe\">\n",
              "  <thead>\n",
              "    <tr style=\"text-align: right;\">\n",
              "      <th></th>\n",
              "      <th>index</th>\n",
              "      <th>invoice_id</th>\n",
              "      <th>customer_type</th>\n",
              "      <th>quantity</th>\n",
              "      <th>rating</th>\n",
              "      <th>title</th>\n",
              "    </tr>\n",
              "  </thead>\n",
              "  <tbody>\n",
              "    <tr>\n",
              "      <th>0</th>\n",
              "      <td>0</td>\n",
              "      <td>151-33-7434</td>\n",
              "      <td>Normal</td>\n",
              "      <td>1</td>\n",
              "      <td>6.5</td>\n",
              "      <td>frankfurter</td>\n",
              "    </tr>\n",
              "    <tr>\n",
              "      <th>1</th>\n",
              "      <td>1</td>\n",
              "      <td>154-74-7179</td>\n",
              "      <td>Normal</td>\n",
              "      <td>1</td>\n",
              "      <td>7.9</td>\n",
              "      <td>bottled water</td>\n",
              "    </tr>\n",
              "    <tr>\n",
              "      <th>2</th>\n",
              "      <td>2</td>\n",
              "      <td>156-20-0370</td>\n",
              "      <td>Normal</td>\n",
              "      <td>1</td>\n",
              "      <td>5.1</td>\n",
              "      <td>sausage</td>\n",
              "    </tr>\n",
              "  </tbody>\n",
              "</table>\n",
              "</div>\n",
              "      <button class=\"colab-df-convert\" onclick=\"convertToInteractive('df-ac63adca-d82a-47ac-982d-4e55ac70e994')\"\n",
              "              title=\"Convert this dataframe to an interactive table.\"\n",
              "              style=\"display:none;\">\n",
              "        \n",
              "  <svg xmlns=\"http://www.w3.org/2000/svg\" height=\"24px\"viewBox=\"0 0 24 24\"\n",
              "       width=\"24px\">\n",
              "    <path d=\"M0 0h24v24H0V0z\" fill=\"none\"/>\n",
              "    <path d=\"M18.56 5.44l.94 2.06.94-2.06 2.06-.94-2.06-.94-.94-2.06-.94 2.06-2.06.94zm-11 1L8.5 8.5l.94-2.06 2.06-.94-2.06-.94L8.5 2.5l-.94 2.06-2.06.94zm10 10l.94 2.06.94-2.06 2.06-.94-2.06-.94-.94-2.06-.94 2.06-2.06.94z\"/><path d=\"M17.41 7.96l-1.37-1.37c-.4-.4-.92-.59-1.43-.59-.52 0-1.04.2-1.43.59L10.3 9.45l-7.72 7.72c-.78.78-.78 2.05 0 2.83L4 21.41c.39.39.9.59 1.41.59.51 0 1.02-.2 1.41-.59l7.78-7.78 2.81-2.81c.8-.78.8-2.07 0-2.86zM5.41 20L4 18.59l7.72-7.72 1.47 1.35L5.41 20z\"/>\n",
              "  </svg>\n",
              "      </button>\n",
              "      \n",
              "  <style>\n",
              "    .colab-df-container {\n",
              "      display:flex;\n",
              "      flex-wrap:wrap;\n",
              "      gap: 12px;\n",
              "    }\n",
              "\n",
              "    .colab-df-convert {\n",
              "      background-color: #E8F0FE;\n",
              "      border: none;\n",
              "      border-radius: 50%;\n",
              "      cursor: pointer;\n",
              "      display: none;\n",
              "      fill: #1967D2;\n",
              "      height: 32px;\n",
              "      padding: 0 0 0 0;\n",
              "      width: 32px;\n",
              "    }\n",
              "\n",
              "    .colab-df-convert:hover {\n",
              "      background-color: #E2EBFA;\n",
              "      box-shadow: 0px 1px 2px rgba(60, 64, 67, 0.3), 0px 1px 3px 1px rgba(60, 64, 67, 0.15);\n",
              "      fill: #174EA6;\n",
              "    }\n",
              "\n",
              "    [theme=dark] .colab-df-convert {\n",
              "      background-color: #3B4455;\n",
              "      fill: #D2E3FC;\n",
              "    }\n",
              "\n",
              "    [theme=dark] .colab-df-convert:hover {\n",
              "      background-color: #434B5C;\n",
              "      box-shadow: 0px 1px 3px 1px rgba(0, 0, 0, 0.15);\n",
              "      filter: drop-shadow(0px 1px 2px rgba(0, 0, 0, 0.3));\n",
              "      fill: #FFFFFF;\n",
              "    }\n",
              "  </style>\n",
              "\n",
              "      <script>\n",
              "        const buttonEl =\n",
              "          document.querySelector('#df-ac63adca-d82a-47ac-982d-4e55ac70e994 button.colab-df-convert');\n",
              "        buttonEl.style.display =\n",
              "          google.colab.kernel.accessAllowed ? 'block' : 'none';\n",
              "\n",
              "        async function convertToInteractive(key) {\n",
              "          const element = document.querySelector('#df-ac63adca-d82a-47ac-982d-4e55ac70e994');\n",
              "          const dataTable =\n",
              "            await google.colab.kernel.invokeFunction('convertToInteractive',\n",
              "                                                     [key], {});\n",
              "          if (!dataTable) return;\n",
              "\n",
              "          const docLinkHtml = 'Like what you see? Visit the ' +\n",
              "            '<a target=\"_blank\" href=https://colab.research.google.com/notebooks/data_table.ipynb>data table notebook</a>'\n",
              "            + ' to learn more about interactive tables.';\n",
              "          element.innerHTML = '';\n",
              "          dataTable['output_type'] = 'display_data';\n",
              "          await google.colab.output.renderOutput(dataTable, element);\n",
              "          const docLink = document.createElement('div');\n",
              "          docLink.innerHTML = docLinkHtml;\n",
              "          element.appendChild(docLink);\n",
              "        }\n",
              "      </script>\n",
              "    </div>\n",
              "  </div>\n",
              "  "
            ],
            "text/plain": [
              "   index   invoice_id customer_type  quantity  rating          title\n",
              "0      0  151-33-7434        Normal         1     6.5    frankfurter\n",
              "1      1  154-74-7179        Normal         1     7.9  bottled water\n",
              "2      2  156-20-0370        Normal         1     5.1        sausage"
            ]
          },
          "metadata": {},
          "execution_count": 4
        }
      ]
    },
    {
      "cell_type": "code",
      "source": [
        "df.shape"
      ],
      "metadata": {
        "colab": {
          "base_uri": "https://localhost:8080/"
        },
        "id": "TJ3kDpTjfecY",
        "outputId": "ba421f8d-e7b7-44ef-ad9a-b9cb629e6c4d"
      },
      "execution_count": 5,
      "outputs": [
        {
          "output_type": "execute_result",
          "data": {
            "text/plain": [
              "(1000, 6)"
            ]
          },
          "metadata": {},
          "execution_count": 5
        }
      ]
    },
    {
      "cell_type": "code",
      "source": [
        "columns = ['quantity', 'title', 'rating']"
      ],
      "metadata": {
        "id": "eGwMU6vLfoNW"
      },
      "execution_count": 6,
      "outputs": []
    },
    {
      "cell_type": "code",
      "source": [
        "df[columns].head()"
      ],
      "metadata": {
        "colab": {
          "base_uri": "https://localhost:8080/",
          "height": 206
        },
        "id": "ku-s2zFOf2f2",
        "outputId": "2f60e37d-be00-4544-917a-5d750899c398"
      },
      "execution_count": 7,
      "outputs": [
        {
          "output_type": "execute_result",
          "data": {
            "text/html": [
              "\n",
              "  <div id=\"df-1029d28c-0d11-4e86-a295-949e88cf1ffc\">\n",
              "    <div class=\"colab-df-container\">\n",
              "      <div>\n",
              "<style scoped>\n",
              "    .dataframe tbody tr th:only-of-type {\n",
              "        vertical-align: middle;\n",
              "    }\n",
              "\n",
              "    .dataframe tbody tr th {\n",
              "        vertical-align: top;\n",
              "    }\n",
              "\n",
              "    .dataframe thead th {\n",
              "        text-align: right;\n",
              "    }\n",
              "</style>\n",
              "<table border=\"1\" class=\"dataframe\">\n",
              "  <thead>\n",
              "    <tr style=\"text-align: right;\">\n",
              "      <th></th>\n",
              "      <th>quantity</th>\n",
              "      <th>title</th>\n",
              "      <th>rating</th>\n",
              "    </tr>\n",
              "  </thead>\n",
              "  <tbody>\n",
              "    <tr>\n",
              "      <th>0</th>\n",
              "      <td>1</td>\n",
              "      <td>frankfurter</td>\n",
              "      <td>6.5</td>\n",
              "    </tr>\n",
              "    <tr>\n",
              "      <th>1</th>\n",
              "      <td>1</td>\n",
              "      <td>bottled water</td>\n",
              "      <td>7.9</td>\n",
              "    </tr>\n",
              "    <tr>\n",
              "      <th>2</th>\n",
              "      <td>1</td>\n",
              "      <td>sausage</td>\n",
              "      <td>5.1</td>\n",
              "    </tr>\n",
              "    <tr>\n",
              "      <th>3</th>\n",
              "      <td>1</td>\n",
              "      <td>sausage</td>\n",
              "      <td>4.8</td>\n",
              "    </tr>\n",
              "    <tr>\n",
              "      <th>4</th>\n",
              "      <td>1</td>\n",
              "      <td>sausage</td>\n",
              "      <td>4.1</td>\n",
              "    </tr>\n",
              "  </tbody>\n",
              "</table>\n",
              "</div>\n",
              "      <button class=\"colab-df-convert\" onclick=\"convertToInteractive('df-1029d28c-0d11-4e86-a295-949e88cf1ffc')\"\n",
              "              title=\"Convert this dataframe to an interactive table.\"\n",
              "              style=\"display:none;\">\n",
              "        \n",
              "  <svg xmlns=\"http://www.w3.org/2000/svg\" height=\"24px\"viewBox=\"0 0 24 24\"\n",
              "       width=\"24px\">\n",
              "    <path d=\"M0 0h24v24H0V0z\" fill=\"none\"/>\n",
              "    <path d=\"M18.56 5.44l.94 2.06.94-2.06 2.06-.94-2.06-.94-.94-2.06-.94 2.06-2.06.94zm-11 1L8.5 8.5l.94-2.06 2.06-.94-2.06-.94L8.5 2.5l-.94 2.06-2.06.94zm10 10l.94 2.06.94-2.06 2.06-.94-2.06-.94-.94-2.06-.94 2.06-2.06.94z\"/><path d=\"M17.41 7.96l-1.37-1.37c-.4-.4-.92-.59-1.43-.59-.52 0-1.04.2-1.43.59L10.3 9.45l-7.72 7.72c-.78.78-.78 2.05 0 2.83L4 21.41c.39.39.9.59 1.41.59.51 0 1.02-.2 1.41-.59l7.78-7.78 2.81-2.81c.8-.78.8-2.07 0-2.86zM5.41 20L4 18.59l7.72-7.72 1.47 1.35L5.41 20z\"/>\n",
              "  </svg>\n",
              "      </button>\n",
              "      \n",
              "  <style>\n",
              "    .colab-df-container {\n",
              "      display:flex;\n",
              "      flex-wrap:wrap;\n",
              "      gap: 12px;\n",
              "    }\n",
              "\n",
              "    .colab-df-convert {\n",
              "      background-color: #E8F0FE;\n",
              "      border: none;\n",
              "      border-radius: 50%;\n",
              "      cursor: pointer;\n",
              "      display: none;\n",
              "      fill: #1967D2;\n",
              "      height: 32px;\n",
              "      padding: 0 0 0 0;\n",
              "      width: 32px;\n",
              "    }\n",
              "\n",
              "    .colab-df-convert:hover {\n",
              "      background-color: #E2EBFA;\n",
              "      box-shadow: 0px 1px 2px rgba(60, 64, 67, 0.3), 0px 1px 3px 1px rgba(60, 64, 67, 0.15);\n",
              "      fill: #174EA6;\n",
              "    }\n",
              "\n",
              "    [theme=dark] .colab-df-convert {\n",
              "      background-color: #3B4455;\n",
              "      fill: #D2E3FC;\n",
              "    }\n",
              "\n",
              "    [theme=dark] .colab-df-convert:hover {\n",
              "      background-color: #434B5C;\n",
              "      box-shadow: 0px 1px 3px 1px rgba(0, 0, 0, 0.15);\n",
              "      filter: drop-shadow(0px 1px 2px rgba(0, 0, 0, 0.3));\n",
              "      fill: #FFFFFF;\n",
              "    }\n",
              "  </style>\n",
              "\n",
              "      <script>\n",
              "        const buttonEl =\n",
              "          document.querySelector('#df-1029d28c-0d11-4e86-a295-949e88cf1ffc button.colab-df-convert');\n",
              "        buttonEl.style.display =\n",
              "          google.colab.kernel.accessAllowed ? 'block' : 'none';\n",
              "\n",
              "        async function convertToInteractive(key) {\n",
              "          const element = document.querySelector('#df-1029d28c-0d11-4e86-a295-949e88cf1ffc');\n",
              "          const dataTable =\n",
              "            await google.colab.kernel.invokeFunction('convertToInteractive',\n",
              "                                                     [key], {});\n",
              "          if (!dataTable) return;\n",
              "\n",
              "          const docLinkHtml = 'Like what you see? Visit the ' +\n",
              "            '<a target=\"_blank\" href=https://colab.research.google.com/notebooks/data_table.ipynb>data table notebook</a>'\n",
              "            + ' to learn more about interactive tables.';\n",
              "          element.innerHTML = '';\n",
              "          dataTable['output_type'] = 'display_data';\n",
              "          await google.colab.output.renderOutput(dataTable, element);\n",
              "          const docLink = document.createElement('div');\n",
              "          docLink.innerHTML = docLinkHtml;\n",
              "          element.appendChild(docLink);\n",
              "        }\n",
              "      </script>\n",
              "    </div>\n",
              "  </div>\n",
              "  "
            ],
            "text/plain": [
              "   quantity          title  rating\n",
              "0         1    frankfurter     6.5\n",
              "1         1  bottled water     7.9\n",
              "2         1        sausage     5.1\n",
              "3         1        sausage     4.8\n",
              "4         1        sausage     4.1"
            ]
          },
          "metadata": {},
          "execution_count": 7
        }
      ]
    },
    {
      "cell_type": "code",
      "source": [
        "df[columns].isnull().values.any()"
      ],
      "metadata": {
        "colab": {
          "base_uri": "https://localhost:8080/"
        },
        "id": "f6A_iRazf6Zr",
        "outputId": "57ef115f-c5f8-4cac-f5bc-d9e7666abf36"
      },
      "execution_count": 8,
      "outputs": [
        {
          "output_type": "execute_result",
          "data": {
            "text/plain": [
              "False"
            ]
          },
          "metadata": {},
          "execution_count": 8
        }
      ]
    },
    {
      "cell_type": "code",
      "source": [
        "def get_important_features(data):\n",
        "  important_features = []\n",
        "  for i in range(0, data.shape[0]):\n",
        "    important_features.append(data['quantity'][i].astype(str)+ ' ' +data['title'][i]+' '+data['rating'][i].astype(str))\n",
        "\n",
        "  return important_features"
      ],
      "metadata": {
        "id": "K5_jAl3wgM0Y"
      },
      "execution_count": 9,
      "outputs": []
    },
    {
      "cell_type": "code",
      "source": [
        "df['important_features'] = get_important_features(df)\n",
        "df.head(3)"
      ],
      "metadata": {
        "colab": {
          "base_uri": "https://localhost:8080/",
          "height": 143
        },
        "id": "kLtQ5ogsg2zz",
        "outputId": "49e9fedf-be44-4603-8c55-3adc7b608334"
      },
      "execution_count": 10,
      "outputs": [
        {
          "output_type": "execute_result",
          "data": {
            "text/html": [
              "\n",
              "  <div id=\"df-a31ac9b0-7623-4772-8a0b-ba32080ec97b\">\n",
              "    <div class=\"colab-df-container\">\n",
              "      <div>\n",
              "<style scoped>\n",
              "    .dataframe tbody tr th:only-of-type {\n",
              "        vertical-align: middle;\n",
              "    }\n",
              "\n",
              "    .dataframe tbody tr th {\n",
              "        vertical-align: top;\n",
              "    }\n",
              "\n",
              "    .dataframe thead th {\n",
              "        text-align: right;\n",
              "    }\n",
              "</style>\n",
              "<table border=\"1\" class=\"dataframe\">\n",
              "  <thead>\n",
              "    <tr style=\"text-align: right;\">\n",
              "      <th></th>\n",
              "      <th>index</th>\n",
              "      <th>invoice_id</th>\n",
              "      <th>customer_type</th>\n",
              "      <th>quantity</th>\n",
              "      <th>rating</th>\n",
              "      <th>title</th>\n",
              "      <th>important_features</th>\n",
              "    </tr>\n",
              "  </thead>\n",
              "  <tbody>\n",
              "    <tr>\n",
              "      <th>0</th>\n",
              "      <td>0</td>\n",
              "      <td>151-33-7434</td>\n",
              "      <td>Normal</td>\n",
              "      <td>1</td>\n",
              "      <td>6.5</td>\n",
              "      <td>frankfurter</td>\n",
              "      <td>1 frankfurter 6.5</td>\n",
              "    </tr>\n",
              "    <tr>\n",
              "      <th>1</th>\n",
              "      <td>1</td>\n",
              "      <td>154-74-7179</td>\n",
              "      <td>Normal</td>\n",
              "      <td>1</td>\n",
              "      <td>7.9</td>\n",
              "      <td>bottled water</td>\n",
              "      <td>1 bottled water 7.9</td>\n",
              "    </tr>\n",
              "    <tr>\n",
              "      <th>2</th>\n",
              "      <td>2</td>\n",
              "      <td>156-20-0370</td>\n",
              "      <td>Normal</td>\n",
              "      <td>1</td>\n",
              "      <td>5.1</td>\n",
              "      <td>sausage</td>\n",
              "      <td>1 sausage 5.1</td>\n",
              "    </tr>\n",
              "  </tbody>\n",
              "</table>\n",
              "</div>\n",
              "      <button class=\"colab-df-convert\" onclick=\"convertToInteractive('df-a31ac9b0-7623-4772-8a0b-ba32080ec97b')\"\n",
              "              title=\"Convert this dataframe to an interactive table.\"\n",
              "              style=\"display:none;\">\n",
              "        \n",
              "  <svg xmlns=\"http://www.w3.org/2000/svg\" height=\"24px\"viewBox=\"0 0 24 24\"\n",
              "       width=\"24px\">\n",
              "    <path d=\"M0 0h24v24H0V0z\" fill=\"none\"/>\n",
              "    <path d=\"M18.56 5.44l.94 2.06.94-2.06 2.06-.94-2.06-.94-.94-2.06-.94 2.06-2.06.94zm-11 1L8.5 8.5l.94-2.06 2.06-.94-2.06-.94L8.5 2.5l-.94 2.06-2.06.94zm10 10l.94 2.06.94-2.06 2.06-.94-2.06-.94-.94-2.06-.94 2.06-2.06.94z\"/><path d=\"M17.41 7.96l-1.37-1.37c-.4-.4-.92-.59-1.43-.59-.52 0-1.04.2-1.43.59L10.3 9.45l-7.72 7.72c-.78.78-.78 2.05 0 2.83L4 21.41c.39.39.9.59 1.41.59.51 0 1.02-.2 1.41-.59l7.78-7.78 2.81-2.81c.8-.78.8-2.07 0-2.86zM5.41 20L4 18.59l7.72-7.72 1.47 1.35L5.41 20z\"/>\n",
              "  </svg>\n",
              "      </button>\n",
              "      \n",
              "  <style>\n",
              "    .colab-df-container {\n",
              "      display:flex;\n",
              "      flex-wrap:wrap;\n",
              "      gap: 12px;\n",
              "    }\n",
              "\n",
              "    .colab-df-convert {\n",
              "      background-color: #E8F0FE;\n",
              "      border: none;\n",
              "      border-radius: 50%;\n",
              "      cursor: pointer;\n",
              "      display: none;\n",
              "      fill: #1967D2;\n",
              "      height: 32px;\n",
              "      padding: 0 0 0 0;\n",
              "      width: 32px;\n",
              "    }\n",
              "\n",
              "    .colab-df-convert:hover {\n",
              "      background-color: #E2EBFA;\n",
              "      box-shadow: 0px 1px 2px rgba(60, 64, 67, 0.3), 0px 1px 3px 1px rgba(60, 64, 67, 0.15);\n",
              "      fill: #174EA6;\n",
              "    }\n",
              "\n",
              "    [theme=dark] .colab-df-convert {\n",
              "      background-color: #3B4455;\n",
              "      fill: #D2E3FC;\n",
              "    }\n",
              "\n",
              "    [theme=dark] .colab-df-convert:hover {\n",
              "      background-color: #434B5C;\n",
              "      box-shadow: 0px 1px 3px 1px rgba(0, 0, 0, 0.15);\n",
              "      filter: drop-shadow(0px 1px 2px rgba(0, 0, 0, 0.3));\n",
              "      fill: #FFFFFF;\n",
              "    }\n",
              "  </style>\n",
              "\n",
              "      <script>\n",
              "        const buttonEl =\n",
              "          document.querySelector('#df-a31ac9b0-7623-4772-8a0b-ba32080ec97b button.colab-df-convert');\n",
              "        buttonEl.style.display =\n",
              "          google.colab.kernel.accessAllowed ? 'block' : 'none';\n",
              "\n",
              "        async function convertToInteractive(key) {\n",
              "          const element = document.querySelector('#df-a31ac9b0-7623-4772-8a0b-ba32080ec97b');\n",
              "          const dataTable =\n",
              "            await google.colab.kernel.invokeFunction('convertToInteractive',\n",
              "                                                     [key], {});\n",
              "          if (!dataTable) return;\n",
              "\n",
              "          const docLinkHtml = 'Like what you see? Visit the ' +\n",
              "            '<a target=\"_blank\" href=https://colab.research.google.com/notebooks/data_table.ipynb>data table notebook</a>'\n",
              "            + ' to learn more about interactive tables.';\n",
              "          element.innerHTML = '';\n",
              "          dataTable['output_type'] = 'display_data';\n",
              "          await google.colab.output.renderOutput(dataTable, element);\n",
              "          const docLink = document.createElement('div');\n",
              "          docLink.innerHTML = docLinkHtml;\n",
              "          element.appendChild(docLink);\n",
              "        }\n",
              "      </script>\n",
              "    </div>\n",
              "  </div>\n",
              "  "
            ],
            "text/plain": [
              "   index   invoice_id customer_type  ...  rating          title   important_features\n",
              "0      0  151-33-7434        Normal  ...     6.5    frankfurter    1 frankfurter 6.5\n",
              "1      1  154-74-7179        Normal  ...     7.9  bottled water  1 bottled water 7.9\n",
              "2      2  156-20-0370        Normal  ...     5.1        sausage        1 sausage 5.1\n",
              "\n",
              "[3 rows x 7 columns]"
            ]
          },
          "metadata": {},
          "execution_count": 10
        }
      ]
    },
    {
      "cell_type": "code",
      "source": [
        "cm = CountVectorizer().fit_transform(df['important_features'])\n",
        "tfid = TfidfVectorizer().fit_transform(df['important_features'])"
      ],
      "metadata": {
        "id": "NIRkT00HiXaN"
      },
      "execution_count": 11,
      "outputs": []
    },
    {
      "cell_type": "code",
      "source": [
        "cs = cosine_similarity(cm)\n",
        "print(cs)"
      ],
      "metadata": {
        "colab": {
          "base_uri": "https://localhost:8080/"
        },
        "id": "Z14KK-gvyqTT",
        "outputId": "ccbfa5cb-2f2c-46c6-e53e-d6a25a3e1041"
      },
      "execution_count": 12,
      "outputs": [
        {
          "output_type": "stream",
          "name": "stdout",
          "text": [
            "[[1.         0.         0.         ... 0.         0.         0.        ]\n",
            " [0.         1.         0.         ... 0.         0.         0.        ]\n",
            " [0.         0.         1.         ... 0.         0.         0.        ]\n",
            " ...\n",
            " [0.         0.         0.         ... 1.         0.40824829 0.40824829]\n",
            " [0.         0.         0.         ... 0.40824829 1.         0.5       ]\n",
            " [0.         0.         0.         ... 0.40824829 0.5        1.        ]]\n"
          ]
        }
      ]
    },
    {
      "cell_type": "code",
      "source": [
        "cs.shape"
      ],
      "metadata": {
        "colab": {
          "base_uri": "https://localhost:8080/"
        },
        "id": "NyI-oKjyyyAh",
        "outputId": "4aea0afd-2402-4cd3-d920-bac8c671e709"
      },
      "execution_count": 13,
      "outputs": [
        {
          "output_type": "execute_result",
          "data": {
            "text/plain": [
              "(1000, 1000)"
            ]
          },
          "metadata": {},
          "execution_count": 13
        }
      ]
    },
    {
      "cell_type": "code",
      "source": [
        "cs1 = cosine_similarity(tfid)\n",
        "print(cs1)"
      ],
      "metadata": {
        "colab": {
          "base_uri": "https://localhost:8080/"
        },
        "id": "_BW8bhBeKb_l",
        "outputId": "3f253d40-a888-44bf-c479-09826647c71d"
      },
      "execution_count": 14,
      "outputs": [
        {
          "output_type": "stream",
          "name": "stdout",
          "text": [
            "[[1.         0.         0.         ... 0.         0.         0.        ]\n",
            " [0.         1.         0.         ... 0.         0.         0.        ]\n",
            " [0.         0.         1.         ... 0.         0.         0.        ]\n",
            " ...\n",
            " [0.         0.         0.         ... 1.         0.22646938 0.28920125]\n",
            " [0.         0.         0.         ... 0.22646938 1.         0.24852426]\n",
            " [0.         0.         0.         ... 0.28920125 0.24852426 1.        ]]\n"
          ]
        }
      ]
    },
    {
      "cell_type": "code",
      "source": [
        "cs1.shape"
      ],
      "metadata": {
        "colab": {
          "base_uri": "https://localhost:8080/"
        },
        "id": "WuvyEd2WKmBe",
        "outputId": "0f508678-6b69-49f3-f81b-dfc92d0a8661"
      },
      "execution_count": 15,
      "outputs": [
        {
          "output_type": "execute_result",
          "data": {
            "text/plain": [
              "(1000, 1000)"
            ]
          },
          "metadata": {},
          "execution_count": 15
        }
      ]
    },
    {
      "cell_type": "code",
      "source": [
        "title = input(\"Type Grocery name : \")\n",
        "grocery_id = df[df.title == title]['index'].values[0]"
      ],
      "metadata": {
        "colab": {
          "base_uri": "https://localhost:8080/"
        },
        "id": "NpM3frkxzD08",
        "outputId": "9b21cfa6-8d9d-4f1d-dfe5-4c8f163bcfb2"
      },
      "execution_count": 16,
      "outputs": [
        {
          "name": "stdout",
          "output_type": "stream",
          "text": [
            "Type Grocery name : sausage\n"
          ]
        }
      ]
    },
    {
      "cell_type": "code",
      "source": [
        "score = list(enumerate(cs[grocery_id]))\n",
        "score1 = list(enumerate(cs1[grocery_id]))"
      ],
      "metadata": {
        "id": "Nhctu7FGzmW8"
      },
      "execution_count": 17,
      "outputs": []
    },
    {
      "cell_type": "code",
      "source": [
        "sorted_score = sorted(score, key = lambda x: x[1], reverse = True)\n",
        "sorted_score = sorted_score[1:]"
      ],
      "metadata": {
        "id": "RqzX_XFJ0HRm"
      },
      "execution_count": 18,
      "outputs": []
    },
    {
      "cell_type": "code",
      "source": [
        "print(sorted_score)"
      ],
      "metadata": {
        "colab": {
          "base_uri": "https://localhost:8080/"
        },
        "id": "W4q9GdyMCcpQ",
        "outputId": "2d77c56c-8076-48ef-f5fe-ccf393c800b3"
      },
      "execution_count": 19,
      "outputs": [
        {
          "output_type": "stream",
          "name": "stdout",
          "text": [
            "[(3, 1.0), (4, 1.0), (18, 1.0), (50, 1.0), (63, 1.0), (75, 1.0), (79, 1.0), (84, 1.0), (97, 1.0), (102, 1.0), (109, 1.0), (117, 1.0), (128, 1.0), (148, 1.0), (180, 1.0), (183, 1.0), (241, 1.0), (249, 1.0), (266, 1.0), (269, 1.0), (280, 1.0), (284, 1.0), (308, 1.0), (348, 1.0), (360, 1.0), (367, 1.0), (402, 1.0), (405, 1.0), (429, 1.0), (459, 1.0), (463, 1.0), (468, 1.0), (471, 1.0), (478, 1.0), (495, 1.0), (504, 1.0), (539, 1.0), (568, 1.0), (571, 1.0), (575, 1.0), (576, 1.0), (583, 1.0), (591, 1.0), (609, 1.0), (642, 1.0), (651, 1.0), (715, 1.0), (727, 1.0), (729, 1.0), (754, 1.0), (777, 1.0), (780, 1.0), (783, 1.0), (802, 1.0), (824, 1.0), (831, 1.0), (840, 1.0), (852, 1.0), (872, 1.0), (220, 0.7071067811865475), (919, 0.7071067811865475), (937, 0.7071067811865475), (941, 0.7071067811865475), (945, 0.7071067811865475), (0, 0.0), (1, 0.0), (5, 0.0), (6, 0.0), (7, 0.0), (8, 0.0), (9, 0.0), (10, 0.0), (11, 0.0), (12, 0.0), (13, 0.0), (14, 0.0), (15, 0.0), (16, 0.0), (17, 0.0), (19, 0.0), (20, 0.0), (21, 0.0), (22, 0.0), (23, 0.0), (24, 0.0), (25, 0.0), (26, 0.0), (27, 0.0), (28, 0.0), (29, 0.0), (30, 0.0), (31, 0.0), (32, 0.0), (33, 0.0), (34, 0.0), (35, 0.0), (36, 0.0), (37, 0.0), (38, 0.0), (39, 0.0), (40, 0.0), (41, 0.0), (42, 0.0), (43, 0.0), (44, 0.0), (45, 0.0), (46, 0.0), (47, 0.0), (48, 0.0), (49, 0.0), (51, 0.0), (52, 0.0), (53, 0.0), (54, 0.0), (55, 0.0), (56, 0.0), (57, 0.0), (58, 0.0), (59, 0.0), (60, 0.0), (61, 0.0), (62, 0.0), (64, 0.0), (65, 0.0), (66, 0.0), (67, 0.0), (68, 0.0), (69, 0.0), (70, 0.0), (71, 0.0), (72, 0.0), (73, 0.0), (74, 0.0), (76, 0.0), (77, 0.0), (78, 0.0), (80, 0.0), (81, 0.0), (82, 0.0), (83, 0.0), (85, 0.0), (86, 0.0), (87, 0.0), (88, 0.0), (89, 0.0), (90, 0.0), (91, 0.0), (92, 0.0), (93, 0.0), (94, 0.0), (95, 0.0), (96, 0.0), (98, 0.0), (99, 0.0), (100, 0.0), (101, 0.0), (103, 0.0), (104, 0.0), (105, 0.0), (106, 0.0), (107, 0.0), (108, 0.0), (110, 0.0), (111, 0.0), (112, 0.0), (113, 0.0), (114, 0.0), (115, 0.0), (116, 0.0), (118, 0.0), (119, 0.0), (120, 0.0), (121, 0.0), (122, 0.0), (123, 0.0), (124, 0.0), (125, 0.0), (126, 0.0), (127, 0.0), (129, 0.0), (130, 0.0), (131, 0.0), (132, 0.0), (133, 0.0), (134, 0.0), (135, 0.0), (136, 0.0), (137, 0.0), (138, 0.0), (139, 0.0), (140, 0.0), (141, 0.0), (142, 0.0), (143, 0.0), (144, 0.0), (145, 0.0), (146, 0.0), (147, 0.0), (149, 0.0), (150, 0.0), (151, 0.0), (152, 0.0), (153, 0.0), (154, 0.0), (155, 0.0), (156, 0.0), (157, 0.0), (158, 0.0), (159, 0.0), (160, 0.0), (161, 0.0), (162, 0.0), (163, 0.0), (164, 0.0), (165, 0.0), (166, 0.0), (167, 0.0), (168, 0.0), (169, 0.0), (170, 0.0), (171, 0.0), (172, 0.0), (173, 0.0), (174, 0.0), (175, 0.0), (176, 0.0), (177, 0.0), (178, 0.0), (179, 0.0), (181, 0.0), (182, 0.0), (184, 0.0), (185, 0.0), (186, 0.0), (187, 0.0), (188, 0.0), (189, 0.0), (190, 0.0), (191, 0.0), (192, 0.0), (193, 0.0), (194, 0.0), (195, 0.0), (196, 0.0), (197, 0.0), (198, 0.0), (199, 0.0), (200, 0.0), (201, 0.0), (202, 0.0), (203, 0.0), (204, 0.0), (205, 0.0), (206, 0.0), (207, 0.0), (208, 0.0), (209, 0.0), (210, 0.0), (211, 0.0), (212, 0.0), (213, 0.0), (214, 0.0), (215, 0.0), (216, 0.0), (217, 0.0), (218, 0.0), (219, 0.0), (221, 0.0), (222, 0.0), (223, 0.0), (224, 0.0), (225, 0.0), (226, 0.0), (227, 0.0), (228, 0.0), (229, 0.0), (230, 0.0), (231, 0.0), (232, 0.0), (233, 0.0), (234, 0.0), (235, 0.0), (236, 0.0), (237, 0.0), (238, 0.0), (239, 0.0), (240, 0.0), (242, 0.0), (243, 0.0), (244, 0.0), (245, 0.0), (246, 0.0), (247, 0.0), (248, 0.0), (250, 0.0), (251, 0.0), (252, 0.0), (253, 0.0), (254, 0.0), (255, 0.0), (256, 0.0), (257, 0.0), (258, 0.0), (259, 0.0), (260, 0.0), (261, 0.0), (262, 0.0), (263, 0.0), (264, 0.0), (265, 0.0), (267, 0.0), (268, 0.0), (270, 0.0), (271, 0.0), (272, 0.0), (273, 0.0), (274, 0.0), (275, 0.0), (276, 0.0), (277, 0.0), (278, 0.0), (279, 0.0), (281, 0.0), (282, 0.0), (283, 0.0), (285, 0.0), (286, 0.0), (287, 0.0), (288, 0.0), (289, 0.0), (290, 0.0), (291, 0.0), (292, 0.0), (293, 0.0), (294, 0.0), (295, 0.0), (296, 0.0), (297, 0.0), (298, 0.0), (299, 0.0), (300, 0.0), (301, 0.0), (302, 0.0), (303, 0.0), (304, 0.0), (305, 0.0), (306, 0.0), (307, 0.0), (309, 0.0), (310, 0.0), (311, 0.0), (312, 0.0), (313, 0.0), (314, 0.0), (315, 0.0), (316, 0.0), (317, 0.0), (318, 0.0), (319, 0.0), (320, 0.0), (321, 0.0), (322, 0.0), (323, 0.0), (324, 0.0), (325, 0.0), (326, 0.0), (327, 0.0), (328, 0.0), (329, 0.0), (330, 0.0), (331, 0.0), (332, 0.0), (333, 0.0), (334, 0.0), (335, 0.0), (336, 0.0), (337, 0.0), (338, 0.0), (339, 0.0), (340, 0.0), (341, 0.0), (342, 0.0), (343, 0.0), (344, 0.0), (345, 0.0), (346, 0.0), (347, 0.0), (349, 0.0), (350, 0.0), (351, 0.0), (352, 0.0), (353, 0.0), (354, 0.0), (355, 0.0), (356, 0.0), (357, 0.0), (358, 0.0), (359, 0.0), (361, 0.0), (362, 0.0), (363, 0.0), (364, 0.0), (365, 0.0), (366, 0.0), (368, 0.0), (369, 0.0), (370, 0.0), (371, 0.0), (372, 0.0), (373, 0.0), (374, 0.0), (375, 0.0), (376, 0.0), (377, 0.0), (378, 0.0), (379, 0.0), (380, 0.0), (381, 0.0), (382, 0.0), (383, 0.0), (384, 0.0), (385, 0.0), (386, 0.0), (387, 0.0), (388, 0.0), (389, 0.0), (390, 0.0), (391, 0.0), (392, 0.0), (393, 0.0), (394, 0.0), (395, 0.0), (396, 0.0), (397, 0.0), (398, 0.0), (399, 0.0), (400, 0.0), (401, 0.0), (403, 0.0), (404, 0.0), (406, 0.0), (407, 0.0), (408, 0.0), (409, 0.0), (410, 0.0), (411, 0.0), (412, 0.0), (413, 0.0), (414, 0.0), (415, 0.0), (416, 0.0), (417, 0.0), (418, 0.0), (419, 0.0), (420, 0.0), (421, 0.0), (422, 0.0), (423, 0.0), (424, 0.0), (425, 0.0), (426, 0.0), (427, 0.0), (428, 0.0), (430, 0.0), (431, 0.0), (432, 0.0), (433, 0.0), (434, 0.0), (435, 0.0), (436, 0.0), (437, 0.0), (438, 0.0), (439, 0.0), (440, 0.0), (441, 0.0), (442, 0.0), (443, 0.0), (444, 0.0), (445, 0.0), (446, 0.0), (447, 0.0), (448, 0.0), (449, 0.0), (450, 0.0), (451, 0.0), (452, 0.0), (453, 0.0), (454, 0.0), (455, 0.0), (456, 0.0), (457, 0.0), (458, 0.0), (460, 0.0), (461, 0.0), (462, 0.0), (464, 0.0), (465, 0.0), (466, 0.0), (467, 0.0), (469, 0.0), (470, 0.0), (472, 0.0), (473, 0.0), (474, 0.0), (475, 0.0), (476, 0.0), (477, 0.0), (479, 0.0), (480, 0.0), (481, 0.0), (482, 0.0), (483, 0.0), (484, 0.0), (485, 0.0), (486, 0.0), (487, 0.0), (488, 0.0), (489, 0.0), (490, 0.0), (491, 0.0), (492, 0.0), (493, 0.0), (494, 0.0), (496, 0.0), (497, 0.0), (498, 0.0), (499, 0.0), (500, 0.0), (501, 0.0), (502, 0.0), (503, 0.0), (505, 0.0), (506, 0.0), (507, 0.0), (508, 0.0), (509, 0.0), (510, 0.0), (511, 0.0), (512, 0.0), (513, 0.0), (514, 0.0), (515, 0.0), (516, 0.0), (517, 0.0), (518, 0.0), (519, 0.0), (520, 0.0), (521, 0.0), (522, 0.0), (523, 0.0), (524, 0.0), (525, 0.0), (526, 0.0), (527, 0.0), (528, 0.0), (529, 0.0), (530, 0.0), (531, 0.0), (532, 0.0), (533, 0.0), (534, 0.0), (535, 0.0), (536, 0.0), (537, 0.0), (538, 0.0), (540, 0.0), (541, 0.0), (542, 0.0), (543, 0.0), (544, 0.0), (545, 0.0), (546, 0.0), (547, 0.0), (548, 0.0), (549, 0.0), (550, 0.0), (551, 0.0), (552, 0.0), (553, 0.0), (554, 0.0), (555, 0.0), (556, 0.0), (557, 0.0), (558, 0.0), (559, 0.0), (560, 0.0), (561, 0.0), (562, 0.0), (563, 0.0), (564, 0.0), (565, 0.0), (566, 0.0), (567, 0.0), (569, 0.0), (570, 0.0), (572, 0.0), (573, 0.0), (574, 0.0), (577, 0.0), (578, 0.0), (579, 0.0), (580, 0.0), (581, 0.0), (582, 0.0), (584, 0.0), (585, 0.0), (586, 0.0), (587, 0.0), (588, 0.0), (589, 0.0), (590, 0.0), (592, 0.0), (593, 0.0), (594, 0.0), (595, 0.0), (596, 0.0), (597, 0.0), (598, 0.0), (599, 0.0), (600, 0.0), (601, 0.0), (602, 0.0), (603, 0.0), (604, 0.0), (605, 0.0), (606, 0.0), (607, 0.0), (608, 0.0), (610, 0.0), (611, 0.0), (612, 0.0), (613, 0.0), (614, 0.0), (615, 0.0), (616, 0.0), (617, 0.0), (618, 0.0), (619, 0.0), (620, 0.0), (621, 0.0), (622, 0.0), (623, 0.0), (624, 0.0), (625, 0.0), (626, 0.0), (627, 0.0), (628, 0.0), (629, 0.0), (630, 0.0), (631, 0.0), (632, 0.0), (633, 0.0), (634, 0.0), (635, 0.0), (636, 0.0), (637, 0.0), (638, 0.0), (639, 0.0), (640, 0.0), (641, 0.0), (643, 0.0), (644, 0.0), (645, 0.0), (646, 0.0), (647, 0.0), (648, 0.0), (649, 0.0), (650, 0.0), (652, 0.0), (653, 0.0), (654, 0.0), (655, 0.0), (656, 0.0), (657, 0.0), (658, 0.0), (659, 0.0), (660, 0.0), (661, 0.0), (662, 0.0), (663, 0.0), (664, 0.0), (665, 0.0), (666, 0.0), (667, 0.0), (668, 0.0), (669, 0.0), (670, 0.0), (671, 0.0), (672, 0.0), (673, 0.0), (674, 0.0), (675, 0.0), (676, 0.0), (677, 0.0), (678, 0.0), (679, 0.0), (680, 0.0), (681, 0.0), (682, 0.0), (683, 0.0), (684, 0.0), (685, 0.0), (686, 0.0), (687, 0.0), (688, 0.0), (689, 0.0), (690, 0.0), (691, 0.0), (692, 0.0), (693, 0.0), (694, 0.0), (695, 0.0), (696, 0.0), (697, 0.0), (698, 0.0), (699, 0.0), (700, 0.0), (701, 0.0), (702, 0.0), (703, 0.0), (704, 0.0), (705, 0.0), (706, 0.0), (707, 0.0), (708, 0.0), (709, 0.0), (710, 0.0), (711, 0.0), (712, 0.0), (713, 0.0), (714, 0.0), (716, 0.0), (717, 0.0), (718, 0.0), (719, 0.0), (720, 0.0), (721, 0.0), (722, 0.0), (723, 0.0), (724, 0.0), (725, 0.0), (726, 0.0), (728, 0.0), (730, 0.0), (731, 0.0), (732, 0.0), (733, 0.0), (734, 0.0), (735, 0.0), (736, 0.0), (737, 0.0), (738, 0.0), (739, 0.0), (740, 0.0), (741, 0.0), (742, 0.0), (743, 0.0), (744, 0.0), (745, 0.0), (746, 0.0), (747, 0.0), (748, 0.0), (749, 0.0), (750, 0.0), (751, 0.0), (752, 0.0), (753, 0.0), (755, 0.0), (756, 0.0), (757, 0.0), (758, 0.0), (759, 0.0), (760, 0.0), (761, 0.0), (762, 0.0), (763, 0.0), (764, 0.0), (765, 0.0), (766, 0.0), (767, 0.0), (768, 0.0), (769, 0.0), (770, 0.0), (771, 0.0), (772, 0.0), (773, 0.0), (774, 0.0), (775, 0.0), (776, 0.0), (778, 0.0), (779, 0.0), (781, 0.0), (782, 0.0), (784, 0.0), (785, 0.0), (786, 0.0), (787, 0.0), (788, 0.0), (789, 0.0), (790, 0.0), (791, 0.0), (792, 0.0), (793, 0.0), (794, 0.0), (795, 0.0), (796, 0.0), (797, 0.0), (798, 0.0), (799, 0.0), (800, 0.0), (801, 0.0), (803, 0.0), (804, 0.0), (805, 0.0), (806, 0.0), (807, 0.0), (808, 0.0), (809, 0.0), (810, 0.0), (811, 0.0), (812, 0.0), (813, 0.0), (814, 0.0), (815, 0.0), (816, 0.0), (817, 0.0), (818, 0.0), (819, 0.0), (820, 0.0), (821, 0.0), (822, 0.0), (823, 0.0), (825, 0.0), (826, 0.0), (827, 0.0), (828, 0.0), (829, 0.0), (830, 0.0), (832, 0.0), (833, 0.0), (834, 0.0), (835, 0.0), (836, 0.0), (837, 0.0), (838, 0.0), (839, 0.0), (841, 0.0), (842, 0.0), (843, 0.0), (844, 0.0), (845, 0.0), (846, 0.0), (847, 0.0), (848, 0.0), (849, 0.0), (850, 0.0), (851, 0.0), (853, 0.0), (854, 0.0), (855, 0.0), (856, 0.0), (857, 0.0), (858, 0.0), (859, 0.0), (860, 0.0), (861, 0.0), (862, 0.0), (863, 0.0), (864, 0.0), (865, 0.0), (866, 0.0), (867, 0.0), (868, 0.0), (869, 0.0), (870, 0.0), (871, 0.0), (873, 0.0), (874, 0.0), (875, 0.0), (876, 0.0), (877, 0.0), (878, 0.0), (879, 0.0), (880, 0.0), (881, 0.0), (882, 0.0), (883, 0.0), (884, 0.0), (885, 0.0), (886, 0.0), (887, 0.0), (888, 0.0), (889, 0.0), (890, 0.0), (891, 0.0), (892, 0.0), (893, 0.0), (894, 0.0), (895, 0.0), (896, 0.0), (897, 0.0), (898, 0.0), (899, 0.0), (900, 0.0), (901, 0.0), (902, 0.0), (903, 0.0), (904, 0.0), (905, 0.0), (906, 0.0), (907, 0.0), (908, 0.0), (909, 0.0), (910, 0.0), (911, 0.0), (912, 0.0), (913, 0.0), (914, 0.0), (915, 0.0), (916, 0.0), (917, 0.0), (918, 0.0), (920, 0.0), (921, 0.0), (922, 0.0), (923, 0.0), (924, 0.0), (925, 0.0), (926, 0.0), (927, 0.0), (928, 0.0), (929, 0.0), (930, 0.0), (931, 0.0), (932, 0.0), (933, 0.0), (934, 0.0), (935, 0.0), (936, 0.0), (938, 0.0), (939, 0.0), (940, 0.0), (942, 0.0), (943, 0.0), (944, 0.0), (946, 0.0), (947, 0.0), (948, 0.0), (949, 0.0), (950, 0.0), (951, 0.0), (952, 0.0), (953, 0.0), (954, 0.0), (955, 0.0), (956, 0.0), (957, 0.0), (958, 0.0), (959, 0.0), (960, 0.0), (961, 0.0), (962, 0.0), (963, 0.0), (964, 0.0), (965, 0.0), (966, 0.0), (967, 0.0), (968, 0.0), (969, 0.0), (970, 0.0), (971, 0.0), (972, 0.0), (973, 0.0), (974, 0.0), (975, 0.0), (976, 0.0), (977, 0.0), (978, 0.0), (979, 0.0), (980, 0.0), (981, 0.0), (982, 0.0), (983, 0.0), (984, 0.0), (985, 0.0), (986, 0.0), (987, 0.0), (988, 0.0), (989, 0.0), (990, 0.0), (991, 0.0), (992, 0.0), (993, 0.0), (994, 0.0), (995, 0.0), (996, 0.0), (997, 0.0), (998, 0.0), (999, 0.0)]\n"
          ]
        }
      ]
    },
    {
      "cell_type": "code",
      "source": [
        "sorted_scores = sorted(score1, key = lambda x: x[1], reverse=True)\n",
        "sorted_scores = sorted_scores[1:]"
      ],
      "metadata": {
        "id": "vkvPb4p0K2Dw"
      },
      "execution_count": 20,
      "outputs": []
    },
    {
      "cell_type": "code",
      "source": [
        "print(sorted_scores)"
      ],
      "metadata": {
        "colab": {
          "base_uri": "https://localhost:8080/"
        },
        "id": "zRrLPLDiLJdk",
        "outputId": "f8ed267e-9e5d-4675-e22e-5ae911b707d4"
      },
      "execution_count": 21,
      "outputs": [
        {
          "output_type": "stream",
          "name": "stdout",
          "text": [
            "[(3, 1.0), (4, 1.0), (18, 1.0), (50, 1.0), (63, 1.0), (75, 1.0), (79, 1.0), (84, 1.0), (97, 1.0), (102, 1.0), (109, 1.0), (117, 1.0), (128, 1.0), (148, 1.0), (180, 1.0), (183, 1.0), (241, 1.0), (249, 1.0), (266, 1.0), (269, 1.0), (280, 1.0), (284, 1.0), (308, 1.0), (348, 1.0), (360, 1.0), (367, 1.0), (402, 1.0), (405, 1.0), (429, 1.0), (459, 1.0), (463, 1.0), (468, 1.0), (471, 1.0), (478, 1.0), (495, 1.0), (504, 1.0), (539, 1.0), (568, 1.0), (571, 1.0), (575, 1.0), (576, 1.0), (583, 1.0), (591, 1.0), (609, 1.0), (642, 1.0), (651, 1.0), (715, 1.0), (727, 1.0), (729, 1.0), (754, 1.0), (777, 1.0), (780, 1.0), (783, 1.0), (802, 1.0), (824, 1.0), (831, 1.0), (840, 1.0), (852, 1.0), (872, 1.0), (220, 0.7684935209167524), (919, 0.7684935209167524), (937, 0.7684935209167524), (941, 0.7684935209167524), (945, 0.7684935209167524), (0, 0.0), (1, 0.0), (5, 0.0), (6, 0.0), (7, 0.0), (8, 0.0), (9, 0.0), (10, 0.0), (11, 0.0), (12, 0.0), (13, 0.0), (14, 0.0), (15, 0.0), (16, 0.0), (17, 0.0), (19, 0.0), (20, 0.0), (21, 0.0), (22, 0.0), (23, 0.0), (24, 0.0), (25, 0.0), (26, 0.0), (27, 0.0), (28, 0.0), (29, 0.0), (30, 0.0), (31, 0.0), (32, 0.0), (33, 0.0), (34, 0.0), (35, 0.0), (36, 0.0), (37, 0.0), (38, 0.0), (39, 0.0), (40, 0.0), (41, 0.0), (42, 0.0), (43, 0.0), (44, 0.0), (45, 0.0), (46, 0.0), (47, 0.0), (48, 0.0), (49, 0.0), (51, 0.0), (52, 0.0), (53, 0.0), (54, 0.0), (55, 0.0), (56, 0.0), (57, 0.0), (58, 0.0), (59, 0.0), (60, 0.0), (61, 0.0), (62, 0.0), (64, 0.0), (65, 0.0), (66, 0.0), (67, 0.0), (68, 0.0), (69, 0.0), (70, 0.0), (71, 0.0), (72, 0.0), (73, 0.0), (74, 0.0), (76, 0.0), (77, 0.0), (78, 0.0), (80, 0.0), (81, 0.0), (82, 0.0), (83, 0.0), (85, 0.0), (86, 0.0), (87, 0.0), (88, 0.0), (89, 0.0), (90, 0.0), (91, 0.0), (92, 0.0), (93, 0.0), (94, 0.0), (95, 0.0), (96, 0.0), (98, 0.0), (99, 0.0), (100, 0.0), (101, 0.0), (103, 0.0), (104, 0.0), (105, 0.0), (106, 0.0), (107, 0.0), (108, 0.0), (110, 0.0), (111, 0.0), (112, 0.0), (113, 0.0), (114, 0.0), (115, 0.0), (116, 0.0), (118, 0.0), (119, 0.0), (120, 0.0), (121, 0.0), (122, 0.0), (123, 0.0), (124, 0.0), (125, 0.0), (126, 0.0), (127, 0.0), (129, 0.0), (130, 0.0), (131, 0.0), (132, 0.0), (133, 0.0), (134, 0.0), (135, 0.0), (136, 0.0), (137, 0.0), (138, 0.0), (139, 0.0), (140, 0.0), (141, 0.0), (142, 0.0), (143, 0.0), (144, 0.0), (145, 0.0), (146, 0.0), (147, 0.0), (149, 0.0), (150, 0.0), (151, 0.0), (152, 0.0), (153, 0.0), (154, 0.0), (155, 0.0), (156, 0.0), (157, 0.0), (158, 0.0), (159, 0.0), (160, 0.0), (161, 0.0), (162, 0.0), (163, 0.0), (164, 0.0), (165, 0.0), (166, 0.0), (167, 0.0), (168, 0.0), (169, 0.0), (170, 0.0), (171, 0.0), (172, 0.0), (173, 0.0), (174, 0.0), (175, 0.0), (176, 0.0), (177, 0.0), (178, 0.0), (179, 0.0), (181, 0.0), (182, 0.0), (184, 0.0), (185, 0.0), (186, 0.0), (187, 0.0), (188, 0.0), (189, 0.0), (190, 0.0), (191, 0.0), (192, 0.0), (193, 0.0), (194, 0.0), (195, 0.0), (196, 0.0), (197, 0.0), (198, 0.0), (199, 0.0), (200, 0.0), (201, 0.0), (202, 0.0), (203, 0.0), (204, 0.0), (205, 0.0), (206, 0.0), (207, 0.0), (208, 0.0), (209, 0.0), (210, 0.0), (211, 0.0), (212, 0.0), (213, 0.0), (214, 0.0), (215, 0.0), (216, 0.0), (217, 0.0), (218, 0.0), (219, 0.0), (221, 0.0), (222, 0.0), (223, 0.0), (224, 0.0), (225, 0.0), (226, 0.0), (227, 0.0), (228, 0.0), (229, 0.0), (230, 0.0), (231, 0.0), (232, 0.0), (233, 0.0), (234, 0.0), (235, 0.0), (236, 0.0), (237, 0.0), (238, 0.0), (239, 0.0), (240, 0.0), (242, 0.0), (243, 0.0), (244, 0.0), (245, 0.0), (246, 0.0), (247, 0.0), (248, 0.0), (250, 0.0), (251, 0.0), (252, 0.0), (253, 0.0), (254, 0.0), (255, 0.0), (256, 0.0), (257, 0.0), (258, 0.0), (259, 0.0), (260, 0.0), (261, 0.0), (262, 0.0), (263, 0.0), (264, 0.0), (265, 0.0), (267, 0.0), (268, 0.0), (270, 0.0), (271, 0.0), (272, 0.0), (273, 0.0), (274, 0.0), (275, 0.0), (276, 0.0), (277, 0.0), (278, 0.0), (279, 0.0), (281, 0.0), (282, 0.0), (283, 0.0), (285, 0.0), (286, 0.0), (287, 0.0), (288, 0.0), (289, 0.0), (290, 0.0), (291, 0.0), (292, 0.0), (293, 0.0), (294, 0.0), (295, 0.0), (296, 0.0), (297, 0.0), (298, 0.0), (299, 0.0), (300, 0.0), (301, 0.0), (302, 0.0), (303, 0.0), (304, 0.0), (305, 0.0), (306, 0.0), (307, 0.0), (309, 0.0), (310, 0.0), (311, 0.0), (312, 0.0), (313, 0.0), (314, 0.0), (315, 0.0), (316, 0.0), (317, 0.0), (318, 0.0), (319, 0.0), (320, 0.0), (321, 0.0), (322, 0.0), (323, 0.0), (324, 0.0), (325, 0.0), (326, 0.0), (327, 0.0), (328, 0.0), (329, 0.0), (330, 0.0), (331, 0.0), (332, 0.0), (333, 0.0), (334, 0.0), (335, 0.0), (336, 0.0), (337, 0.0), (338, 0.0), (339, 0.0), (340, 0.0), (341, 0.0), (342, 0.0), (343, 0.0), (344, 0.0), (345, 0.0), (346, 0.0), (347, 0.0), (349, 0.0), (350, 0.0), (351, 0.0), (352, 0.0), (353, 0.0), (354, 0.0), (355, 0.0), (356, 0.0), (357, 0.0), (358, 0.0), (359, 0.0), (361, 0.0), (362, 0.0), (363, 0.0), (364, 0.0), (365, 0.0), (366, 0.0), (368, 0.0), (369, 0.0), (370, 0.0), (371, 0.0), (372, 0.0), (373, 0.0), (374, 0.0), (375, 0.0), (376, 0.0), (377, 0.0), (378, 0.0), (379, 0.0), (380, 0.0), (381, 0.0), (382, 0.0), (383, 0.0), (384, 0.0), (385, 0.0), (386, 0.0), (387, 0.0), (388, 0.0), (389, 0.0), (390, 0.0), (391, 0.0), (392, 0.0), (393, 0.0), (394, 0.0), (395, 0.0), (396, 0.0), (397, 0.0), (398, 0.0), (399, 0.0), (400, 0.0), (401, 0.0), (403, 0.0), (404, 0.0), (406, 0.0), (407, 0.0), (408, 0.0), (409, 0.0), (410, 0.0), (411, 0.0), (412, 0.0), (413, 0.0), (414, 0.0), (415, 0.0), (416, 0.0), (417, 0.0), (418, 0.0), (419, 0.0), (420, 0.0), (421, 0.0), (422, 0.0), (423, 0.0), (424, 0.0), (425, 0.0), (426, 0.0), (427, 0.0), (428, 0.0), (430, 0.0), (431, 0.0), (432, 0.0), (433, 0.0), (434, 0.0), (435, 0.0), (436, 0.0), (437, 0.0), (438, 0.0), (439, 0.0), (440, 0.0), (441, 0.0), (442, 0.0), (443, 0.0), (444, 0.0), (445, 0.0), (446, 0.0), (447, 0.0), (448, 0.0), (449, 0.0), (450, 0.0), (451, 0.0), (452, 0.0), (453, 0.0), (454, 0.0), (455, 0.0), (456, 0.0), (457, 0.0), (458, 0.0), (460, 0.0), (461, 0.0), (462, 0.0), (464, 0.0), (465, 0.0), (466, 0.0), (467, 0.0), (469, 0.0), (470, 0.0), (472, 0.0), (473, 0.0), (474, 0.0), (475, 0.0), (476, 0.0), (477, 0.0), (479, 0.0), (480, 0.0), (481, 0.0), (482, 0.0), (483, 0.0), (484, 0.0), (485, 0.0), (486, 0.0), (487, 0.0), (488, 0.0), (489, 0.0), (490, 0.0), (491, 0.0), (492, 0.0), (493, 0.0), (494, 0.0), (496, 0.0), (497, 0.0), (498, 0.0), (499, 0.0), (500, 0.0), (501, 0.0), (502, 0.0), (503, 0.0), (505, 0.0), (506, 0.0), (507, 0.0), (508, 0.0), (509, 0.0), (510, 0.0), (511, 0.0), (512, 0.0), (513, 0.0), (514, 0.0), (515, 0.0), (516, 0.0), (517, 0.0), (518, 0.0), (519, 0.0), (520, 0.0), (521, 0.0), (522, 0.0), (523, 0.0), (524, 0.0), (525, 0.0), (526, 0.0), (527, 0.0), (528, 0.0), (529, 0.0), (530, 0.0), (531, 0.0), (532, 0.0), (533, 0.0), (534, 0.0), (535, 0.0), (536, 0.0), (537, 0.0), (538, 0.0), (540, 0.0), (541, 0.0), (542, 0.0), (543, 0.0), (544, 0.0), (545, 0.0), (546, 0.0), (547, 0.0), (548, 0.0), (549, 0.0), (550, 0.0), (551, 0.0), (552, 0.0), (553, 0.0), (554, 0.0), (555, 0.0), (556, 0.0), (557, 0.0), (558, 0.0), (559, 0.0), (560, 0.0), (561, 0.0), (562, 0.0), (563, 0.0), (564, 0.0), (565, 0.0), (566, 0.0), (567, 0.0), (569, 0.0), (570, 0.0), (572, 0.0), (573, 0.0), (574, 0.0), (577, 0.0), (578, 0.0), (579, 0.0), (580, 0.0), (581, 0.0), (582, 0.0), (584, 0.0), (585, 0.0), (586, 0.0), (587, 0.0), (588, 0.0), (589, 0.0), (590, 0.0), (592, 0.0), (593, 0.0), (594, 0.0), (595, 0.0), (596, 0.0), (597, 0.0), (598, 0.0), (599, 0.0), (600, 0.0), (601, 0.0), (602, 0.0), (603, 0.0), (604, 0.0), (605, 0.0), (606, 0.0), (607, 0.0), (608, 0.0), (610, 0.0), (611, 0.0), (612, 0.0), (613, 0.0), (614, 0.0), (615, 0.0), (616, 0.0), (617, 0.0), (618, 0.0), (619, 0.0), (620, 0.0), (621, 0.0), (622, 0.0), (623, 0.0), (624, 0.0), (625, 0.0), (626, 0.0), (627, 0.0), (628, 0.0), (629, 0.0), (630, 0.0), (631, 0.0), (632, 0.0), (633, 0.0), (634, 0.0), (635, 0.0), (636, 0.0), (637, 0.0), (638, 0.0), (639, 0.0), (640, 0.0), (641, 0.0), (643, 0.0), (644, 0.0), (645, 0.0), (646, 0.0), (647, 0.0), (648, 0.0), (649, 0.0), (650, 0.0), (652, 0.0), (653, 0.0), (654, 0.0), (655, 0.0), (656, 0.0), (657, 0.0), (658, 0.0), (659, 0.0), (660, 0.0), (661, 0.0), (662, 0.0), (663, 0.0), (664, 0.0), (665, 0.0), (666, 0.0), (667, 0.0), (668, 0.0), (669, 0.0), (670, 0.0), (671, 0.0), (672, 0.0), (673, 0.0), (674, 0.0), (675, 0.0), (676, 0.0), (677, 0.0), (678, 0.0), (679, 0.0), (680, 0.0), (681, 0.0), (682, 0.0), (683, 0.0), (684, 0.0), (685, 0.0), (686, 0.0), (687, 0.0), (688, 0.0), (689, 0.0), (690, 0.0), (691, 0.0), (692, 0.0), (693, 0.0), (694, 0.0), (695, 0.0), (696, 0.0), (697, 0.0), (698, 0.0), (699, 0.0), (700, 0.0), (701, 0.0), (702, 0.0), (703, 0.0), (704, 0.0), (705, 0.0), (706, 0.0), (707, 0.0), (708, 0.0), (709, 0.0), (710, 0.0), (711, 0.0), (712, 0.0), (713, 0.0), (714, 0.0), (716, 0.0), (717, 0.0), (718, 0.0), (719, 0.0), (720, 0.0), (721, 0.0), (722, 0.0), (723, 0.0), (724, 0.0), (725, 0.0), (726, 0.0), (728, 0.0), (730, 0.0), (731, 0.0), (732, 0.0), (733, 0.0), (734, 0.0), (735, 0.0), (736, 0.0), (737, 0.0), (738, 0.0), (739, 0.0), (740, 0.0), (741, 0.0), (742, 0.0), (743, 0.0), (744, 0.0), (745, 0.0), (746, 0.0), (747, 0.0), (748, 0.0), (749, 0.0), (750, 0.0), (751, 0.0), (752, 0.0), (753, 0.0), (755, 0.0), (756, 0.0), (757, 0.0), (758, 0.0), (759, 0.0), (760, 0.0), (761, 0.0), (762, 0.0), (763, 0.0), (764, 0.0), (765, 0.0), (766, 0.0), (767, 0.0), (768, 0.0), (769, 0.0), (770, 0.0), (771, 0.0), (772, 0.0), (773, 0.0), (774, 0.0), (775, 0.0), (776, 0.0), (778, 0.0), (779, 0.0), (781, 0.0), (782, 0.0), (784, 0.0), (785, 0.0), (786, 0.0), (787, 0.0), (788, 0.0), (789, 0.0), (790, 0.0), (791, 0.0), (792, 0.0), (793, 0.0), (794, 0.0), (795, 0.0), (796, 0.0), (797, 0.0), (798, 0.0), (799, 0.0), (800, 0.0), (801, 0.0), (803, 0.0), (804, 0.0), (805, 0.0), (806, 0.0), (807, 0.0), (808, 0.0), (809, 0.0), (810, 0.0), (811, 0.0), (812, 0.0), (813, 0.0), (814, 0.0), (815, 0.0), (816, 0.0), (817, 0.0), (818, 0.0), (819, 0.0), (820, 0.0), (821, 0.0), (822, 0.0), (823, 0.0), (825, 0.0), (826, 0.0), (827, 0.0), (828, 0.0), (829, 0.0), (830, 0.0), (832, 0.0), (833, 0.0), (834, 0.0), (835, 0.0), (836, 0.0), (837, 0.0), (838, 0.0), (839, 0.0), (841, 0.0), (842, 0.0), (843, 0.0), (844, 0.0), (845, 0.0), (846, 0.0), (847, 0.0), (848, 0.0), (849, 0.0), (850, 0.0), (851, 0.0), (853, 0.0), (854, 0.0), (855, 0.0), (856, 0.0), (857, 0.0), (858, 0.0), (859, 0.0), (860, 0.0), (861, 0.0), (862, 0.0), (863, 0.0), (864, 0.0), (865, 0.0), (866, 0.0), (867, 0.0), (868, 0.0), (869, 0.0), (870, 0.0), (871, 0.0), (873, 0.0), (874, 0.0), (875, 0.0), (876, 0.0), (877, 0.0), (878, 0.0), (879, 0.0), (880, 0.0), (881, 0.0), (882, 0.0), (883, 0.0), (884, 0.0), (885, 0.0), (886, 0.0), (887, 0.0), (888, 0.0), (889, 0.0), (890, 0.0), (891, 0.0), (892, 0.0), (893, 0.0), (894, 0.0), (895, 0.0), (896, 0.0), (897, 0.0), (898, 0.0), (899, 0.0), (900, 0.0), (901, 0.0), (902, 0.0), (903, 0.0), (904, 0.0), (905, 0.0), (906, 0.0), (907, 0.0), (908, 0.0), (909, 0.0), (910, 0.0), (911, 0.0), (912, 0.0), (913, 0.0), (914, 0.0), (915, 0.0), (916, 0.0), (917, 0.0), (918, 0.0), (920, 0.0), (921, 0.0), (922, 0.0), (923, 0.0), (924, 0.0), (925, 0.0), (926, 0.0), (927, 0.0), (928, 0.0), (929, 0.0), (930, 0.0), (931, 0.0), (932, 0.0), (933, 0.0), (934, 0.0), (935, 0.0), (936, 0.0), (938, 0.0), (939, 0.0), (940, 0.0), (942, 0.0), (943, 0.0), (944, 0.0), (946, 0.0), (947, 0.0), (948, 0.0), (949, 0.0), (950, 0.0), (951, 0.0), (952, 0.0), (953, 0.0), (954, 0.0), (955, 0.0), (956, 0.0), (957, 0.0), (958, 0.0), (959, 0.0), (960, 0.0), (961, 0.0), (962, 0.0), (963, 0.0), (964, 0.0), (965, 0.0), (966, 0.0), (967, 0.0), (968, 0.0), (969, 0.0), (970, 0.0), (971, 0.0), (972, 0.0), (973, 0.0), (974, 0.0), (975, 0.0), (976, 0.0), (977, 0.0), (978, 0.0), (979, 0.0), (980, 0.0), (981, 0.0), (982, 0.0), (983, 0.0), (984, 0.0), (985, 0.0), (986, 0.0), (987, 0.0), (988, 0.0), (989, 0.0), (990, 0.0), (991, 0.0), (992, 0.0), (993, 0.0), (994, 0.0), (995, 0.0), (996, 0.0), (997, 0.0), (998, 0.0), (999, 0.0)]\n"
          ]
        }
      ]
    },
    {
      "cell_type": "code",
      "source": [
        "j = 0\n",
        "print(\"Products Recommendations : \", title, 'are\\n')\n",
        "for item in sorted_score:\n",
        "  grocery_title = df[df.index == item[0]]['title'].values[0]\n",
        "  print(j+1, grocery_title)\n",
        "  j = j + 1\n",
        "  if j > 10:\n",
        "    break"
      ],
      "metadata": {
        "colab": {
          "base_uri": "https://localhost:8080/"
        },
        "id": "ONYU11BFC46K",
        "outputId": "34038629-fde1-44ad-8cf6-15b25f3a9920"
      },
      "execution_count": 22,
      "outputs": [
        {
          "output_type": "stream",
          "name": "stdout",
          "text": [
            "Products Recommendations :  sausage are\n",
            "\n",
            "1 sausage\n",
            "2 sausage\n",
            "3 sausage\n",
            "4 sausage\n",
            "5 sausage\n",
            "6 sausage\n",
            "7 sausage\n",
            "8 sausage\n",
            "9 sausage\n",
            "10 sausage\n",
            "11 sausage\n"
          ]
        }
      ]
    },
    {
      "cell_type": "code",
      "source": [
        "j = 0\n",
        "print(\"Products Recommendations for\", title, 'are :\\n')\n",
        "for item in sorted_scores:\n",
        "  grocery_title = df[df.index == item[0]]['title'].values[0]\n",
        "  print(j+1, grocery_title)\n",
        "  j = j + 1\n",
        "  if j > 10:\n",
        "    break"
      ],
      "metadata": {
        "colab": {
          "base_uri": "https://localhost:8080/"
        },
        "id": "pRhYGPj0LSze",
        "outputId": "4641971c-1bc5-43ab-ee76-eab327550e04"
      },
      "execution_count": 45,
      "outputs": [
        {
          "output_type": "stream",
          "name": "stdout",
          "text": [
            "Products Recommendations for sausage are :\n",
            "\n",
            "1 sausage\n",
            "2 sausage\n",
            "3 sausage\n",
            "4 sausage\n",
            "5 sausage\n",
            "6 sausage\n",
            "7 sausage\n",
            "8 sausage\n",
            "9 sausage\n",
            "10 sausage\n",
            "11 sausage\n"
          ]
        }
      ]
    }
  ]
}
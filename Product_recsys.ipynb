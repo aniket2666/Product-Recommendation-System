{
  "cells": [
    {
      "cell_type": "markdown",
      "metadata": {
        "id": "BlBpSVkJ4-I5"
      },
      "source": [
        "Import Libraries"
      ]
    },
    {
      "cell_type": "code",
      "execution_count": 3,
      "metadata": {
        "id": "qGpkS6EY4-ed"
      },
      "outputs": [],
      "source": [
        "import numpy as np\n",
        "import pandas as pd\n",
        "import difflib\n",
        "from sklearn.feature_extraction.text import TfidfVectorizer\n",
        "from sklearn.metrics.pairwise import cosine_similarity"
      ]
    },
    {
      "cell_type": "code",
      "execution_count": 4,
      "metadata": {
        "colab": {
          "base_uri": "https://localhost:8080/",
          "height": 461
        },
        "id": "aBqr-Lkz5ETC",
        "outputId": "03c9e02a-de24-45dc-8310-7705fe675ae5"
      },
      "outputs": [
        {
          "data": {
            "text/html": [
              "<div>\n",
              "<style scoped>\n",
              "    .dataframe tbody tr th:only-of-type {\n",
              "        vertical-align: middle;\n",
              "    }\n",
              "\n",
              "    .dataframe tbody tr th {\n",
              "        vertical-align: top;\n",
              "    }\n",
              "\n",
              "    .dataframe thead th {\n",
              "        text-align: right;\n",
              "    }\n",
              "</style>\n",
              "<table border=\"1\" class=\"dataframe\">\n",
              "  <thead>\n",
              "    <tr style=\"text-align: right;\">\n",
              "      <th></th>\n",
              "      <th>index</th>\n",
              "      <th>invoice_id</th>\n",
              "      <th>customer_type</th>\n",
              "      <th>quantity</th>\n",
              "      <th>rating</th>\n",
              "      <th>title</th>\n",
              "    </tr>\n",
              "  </thead>\n",
              "  <tbody>\n",
              "    <tr>\n",
              "      <th>0</th>\n",
              "      <td>0</td>\n",
              "      <td>151-33-7434</td>\n",
              "      <td>Normal</td>\n",
              "      <td>1</td>\n",
              "      <td>6.5</td>\n",
              "      <td>frankfurter</td>\n",
              "    </tr>\n",
              "    <tr>\n",
              "      <th>1</th>\n",
              "      <td>1</td>\n",
              "      <td>154-74-7179</td>\n",
              "      <td>Normal</td>\n",
              "      <td>1</td>\n",
              "      <td>7.9</td>\n",
              "      <td>bottled water</td>\n",
              "    </tr>\n",
              "    <tr>\n",
              "      <th>2</th>\n",
              "      <td>2</td>\n",
              "      <td>156-20-0370</td>\n",
              "      <td>Normal</td>\n",
              "      <td>1</td>\n",
              "      <td>5.1</td>\n",
              "      <td>sausage</td>\n",
              "    </tr>\n",
              "    <tr>\n",
              "      <th>3</th>\n",
              "      <td>3</td>\n",
              "      <td>162-65-8559</td>\n",
              "      <td>Member</td>\n",
              "      <td>1</td>\n",
              "      <td>4.8</td>\n",
              "      <td>sausage</td>\n",
              "    </tr>\n",
              "    <tr>\n",
              "      <th>4</th>\n",
              "      <td>4</td>\n",
              "      <td>163-56-7055</td>\n",
              "      <td>Member</td>\n",
              "      <td>1</td>\n",
              "      <td>4.1</td>\n",
              "      <td>sausage</td>\n",
              "    </tr>\n",
              "    <tr>\n",
              "      <th>5</th>\n",
              "      <td>5</td>\n",
              "      <td>186-09-3669</td>\n",
              "      <td>Member</td>\n",
              "      <td>1</td>\n",
              "      <td>9.2</td>\n",
              "      <td>beef</td>\n",
              "    </tr>\n",
              "    <tr>\n",
              "      <th>6</th>\n",
              "      <td>6</td>\n",
              "      <td>192-98-7397</td>\n",
              "      <td>Normal</td>\n",
              "      <td>1</td>\n",
              "      <td>9.5</td>\n",
              "      <td>coffee</td>\n",
              "    </tr>\n",
              "    <tr>\n",
              "      <th>7</th>\n",
              "      <td>7</td>\n",
              "      <td>219-61-4139</td>\n",
              "      <td>Normal</td>\n",
              "      <td>1</td>\n",
              "      <td>6.4</td>\n",
              "      <td>canned beer</td>\n",
              "    </tr>\n",
              "  </tbody>\n",
              "</table>\n",
              "</div>"
            ],
            "text/plain": [
              "   index   invoice_id customer_type  quantity  rating          title\n",
              "0      0  151-33-7434        Normal         1     6.5    frankfurter\n",
              "1      1  154-74-7179        Normal         1     7.9  bottled water\n",
              "2      2  156-20-0370        Normal         1     5.1        sausage\n",
              "3      3  162-65-8559        Member         1     4.8        sausage\n",
              "4      4  163-56-7055        Member         1     4.1        sausage\n",
              "5      5  186-09-3669        Member         1     9.2           beef\n",
              "6      6  192-98-7397        Normal         1     9.5         coffee\n",
              "7      7  219-61-4139        Normal         1     6.4    canned beer"
            ]
          },
          "execution_count": 4,
          "metadata": {},
          "output_type": "execute_result"
        }
      ],
      "source": [
        "grocery_data = pd.read_excel('supermarket_sales - Sheet12.xlsx')\n",
        "grocery_data.head(8)"
      ]
    },
    {
      "cell_type": "code",
      "execution_count": 5,
      "metadata": {
        "id": "fpyjvOrT6aaX"
      },
      "outputs": [],
      "source": [
        "sheet = pd.DataFrame(grocery_data)"
      ]
    },
    {
      "cell_type": "code",
      "execution_count": 6,
      "metadata": {
        "id": "fAZ4hegh_u9v"
      },
      "outputs": [],
      "source": [
        "#sheet.drop('Unnamed: 5', axis=1, inplace=True)"
      ]
    },
    {
      "cell_type": "code",
      "execution_count": 7,
      "metadata": {
        "colab": {
          "base_uri": "https://localhost:8080/",
          "height": 287
        },
        "id": "Mjd2T-itALyw",
        "outputId": "c1f978c4-a1bc-41a2-c13b-e7c1e47f24a7"
      },
      "outputs": [
        {
          "data": {
            "text/html": [
              "<div>\n",
              "<style scoped>\n",
              "    .dataframe tbody tr th:only-of-type {\n",
              "        vertical-align: middle;\n",
              "    }\n",
              "\n",
              "    .dataframe tbody tr th {\n",
              "        vertical-align: top;\n",
              "    }\n",
              "\n",
              "    .dataframe thead th {\n",
              "        text-align: right;\n",
              "    }\n",
              "</style>\n",
              "<table border=\"1\" class=\"dataframe\">\n",
              "  <thead>\n",
              "    <tr style=\"text-align: right;\">\n",
              "      <th></th>\n",
              "      <th>index</th>\n",
              "      <th>invoice_id</th>\n",
              "      <th>customer_type</th>\n",
              "      <th>quantity</th>\n",
              "      <th>rating</th>\n",
              "      <th>title</th>\n",
              "    </tr>\n",
              "  </thead>\n",
              "  <tbody>\n",
              "    <tr>\n",
              "      <th>0</th>\n",
              "      <td>0</td>\n",
              "      <td>151-33-7434</td>\n",
              "      <td>Normal</td>\n",
              "      <td>1</td>\n",
              "      <td>6.5</td>\n",
              "      <td>frankfurter</td>\n",
              "    </tr>\n",
              "    <tr>\n",
              "      <th>1</th>\n",
              "      <td>1</td>\n",
              "      <td>154-74-7179</td>\n",
              "      <td>Normal</td>\n",
              "      <td>1</td>\n",
              "      <td>7.9</td>\n",
              "      <td>bottled water</td>\n",
              "    </tr>\n",
              "    <tr>\n",
              "      <th>2</th>\n",
              "      <td>2</td>\n",
              "      <td>156-20-0370</td>\n",
              "      <td>Normal</td>\n",
              "      <td>1</td>\n",
              "      <td>5.1</td>\n",
              "      <td>sausage</td>\n",
              "    </tr>\n",
              "    <tr>\n",
              "      <th>3</th>\n",
              "      <td>3</td>\n",
              "      <td>162-65-8559</td>\n",
              "      <td>Member</td>\n",
              "      <td>1</td>\n",
              "      <td>4.8</td>\n",
              "      <td>sausage</td>\n",
              "    </tr>\n",
              "    <tr>\n",
              "      <th>4</th>\n",
              "      <td>4</td>\n",
              "      <td>163-56-7055</td>\n",
              "      <td>Member</td>\n",
              "      <td>1</td>\n",
              "      <td>4.1</td>\n",
              "      <td>sausage</td>\n",
              "    </tr>\n",
              "  </tbody>\n",
              "</table>\n",
              "</div>"
            ],
            "text/plain": [
              "   index   invoice_id customer_type  quantity  rating          title\n",
              "0      0  151-33-7434        Normal         1     6.5    frankfurter\n",
              "1      1  154-74-7179        Normal         1     7.9  bottled water\n",
              "2      2  156-20-0370        Normal         1     5.1        sausage\n",
              "3      3  162-65-8559        Member         1     4.8        sausage\n",
              "4      4  163-56-7055        Member         1     4.1        sausage"
            ]
          },
          "execution_count": 7,
          "metadata": {},
          "output_type": "execute_result"
        }
      ],
      "source": [
        "sheet.head()"
      ]
    },
    {
      "cell_type": "code",
      "execution_count": 8,
      "metadata": {
        "colab": {
          "base_uri": "https://localhost:8080/"
        },
        "id": "AXV9-p_-6vg4",
        "outputId": "815eba54-01c8-4023-81e1-6e2d3e5637d3"
      },
      "outputs": [
        {
          "data": {
            "text/plain": [
              "dtype('int64')"
            ]
          },
          "execution_count": 8,
          "metadata": {},
          "output_type": "execute_result"
        }
      ],
      "source": [
        "sheet.dtypes['quantity']"
      ]
    },
    {
      "cell_type": "code",
      "execution_count": 9,
      "metadata": {
        "colab": {
          "base_uri": "https://localhost:8080/"
        },
        "id": "8eR-14pL5OyJ",
        "outputId": "4f2247de-4b72-4f95-ba71-fc1abe068103"
      },
      "outputs": [
        {
          "data": {
            "text/plain": [
              "(1000, 6)"
            ]
          },
          "execution_count": 9,
          "metadata": {},
          "output_type": "execute_result"
        }
      ],
      "source": [
        "grocery_data.shape"
      ]
    },
    {
      "cell_type": "code",
      "execution_count": 10,
      "metadata": {
        "colab": {
          "base_uri": "https://localhost:8080/"
        },
        "id": "qRFKaHO55TEJ",
        "outputId": "76061133-6ac6-4003-e475-a0fadfa48b9a"
      },
      "outputs": [
        {
          "name": "stdout",
          "output_type": "stream",
          "text": [
            "['quantity', 'rating']\n"
          ]
        }
      ],
      "source": [
        "select_feature = ['quantity', 'rating']\n",
        "print(select_feature)"
      ]
    },
    {
      "cell_type": "code",
      "execution_count": 11,
      "metadata": {
        "id": "hJ9yBRGC5hF_"
      },
      "outputs": [],
      "source": [
        "for item in select_feature:\n",
        "    grocery_data[item] = grocery_data[item].fillna('')"
      ]
    },
    {
      "cell_type": "code",
      "execution_count": 12,
      "metadata": {
        "id": "QEKeM5Vd7NQI"
      },
      "outputs": [],
      "source": [
        "vectorizer = TfidfVectorizer()"
      ]
    },
    {
      "cell_type": "code",
      "execution_count": 13,
      "metadata": {
        "colab": {
          "base_uri": "https://localhost:8080/"
        },
        "id": "q1hc3RbA56Zo",
        "outputId": "91690550-931b-4913-ff3e-f0de30f35e7d"
      },
      "outputs": [
        {
          "name": "stdout",
          "output_type": "stream",
          "text": [
            "  (0, 0)\t1.0\n",
            "  (1, 1)\t1.0\n"
          ]
        }
      ],
      "source": [
        "feature_vector = vectorizer.fit_transform(select_feature)\n",
        "print(feature_vector)"
      ]
    },
    {
      "cell_type": "code",
      "execution_count": 14,
      "metadata": {
        "colab": {
          "base_uri": "https://localhost:8080/"
        },
        "id": "D9Z8xjUz7W2T",
        "outputId": "09abce0c-a0ed-4570-8fc7-163f032b95ec"
      },
      "outputs": [
        {
          "name": "stdout",
          "output_type": "stream",
          "text": [
            "[[1. 0.]\n",
            " [0. 1.]]\n"
          ]
        }
      ],
      "source": [
        "similarity = cosine_similarity(feature_vector)\n",
        "print(similarity)"
      ]
    },
    {
      "cell_type": "code",
      "execution_count": 15,
      "metadata": {
        "colab": {
          "base_uri": "https://localhost:8080/"
        },
        "id": "7A9yr18q7ZTy",
        "outputId": "bb893e77-21bb-4c5e-db9b-20448c002026"
      },
      "outputs": [
        {
          "data": {
            "text/plain": [
              "(2, 2)"
            ]
          },
          "execution_count": 15,
          "metadata": {},
          "output_type": "execute_result"
        }
      ],
      "source": [
        "similarity.shape"
      ]
    },
    {
      "cell_type": "code",
      "execution_count": 16,
      "metadata": {
        "colab": {
          "base_uri": "https://localhost:8080/"
        },
        "id": "J7_PgmBk7ivO",
        "outputId": "b312ca2b-ad35-488d-b258-e98d5d28d375"
      },
      "outputs": [],
      "source": [
        "product_name = input(\"Enter Food Item : \")"
      ]
    },
    {
      "cell_type": "code",
      "execution_count": 23,
      "metadata": {
        "colab": {
          "base_uri": "https://localhost:8080/"
        },
        "id": "LYh0zkLc7lHt",
        "outputId": "9429b7b1-6a40-43aa-c7cb-1cfdbaf3a2ea"
      },
      "outputs": [
        {
          "name": "stdout",
          "output_type": "stream",
          "text": [
            "['frankfurter', 'bottled water', 'sausage', 'sausage', 'sausage', 'beef', 'coffee', 'canned beer', 'fruit/vegetable juice', 'other vegetables', 'chicken', 'other vegetables', 'beef', 'rolls/buns', 'tropical fruit', 'specialty cheese', 'tropical fruit', 'whole milk', 'sausage', 'white wine', 'whole milk', 'tropical fruit', 'meat', 'nuts/prunes', 'beef', 'meat', 'beef', 'frozen chicken', 'shopping bags', 'frankfurter', 'whole milk', 'pastry', 'berries', 'root vegetables', 'tropical fruit', 'frankfurter', 'pork', 'frankfurter', 'soda', 'red/blush wine', 'frankfurter', 'pork', 'other vegetables', 'other vegetables', 'bottled beer', 'tropical fruit', 'beef', 'frankfurter', 'root vegetables', 'whole milk', 'sausage', 'tropical fruit', 'citrus fruit', 'citrus fruit', 'root vegetables', 'citrus fruit', 'frankfurter', 'soda', 'root vegetables', 'grapes', 'pasta', 'hard cheese', 'newspapers', 'sausage', 'beverages', 'canned beer', 'whole milk', 'rolls/buns', 'soda', 'bottled water', 'canned beer', 'pip fruit', 'frankfurter', 'pastry', 'whole milk', 'sausage', 'beef', 'chocolate', 'citrus fruit', 'sausage', 'meat', 'yogurt', 'tropical fruit', 'pork', 'sausage', 'frankfurter', 'other vegetables', 'whole milk', 'root vegetables', 'tropical fruit', 'pork', 'pork', 'coffee', 'bottled beer', 'frankfurter', 'frankfurter', 'whole milk', 'sausage', 'meat', 'beverages', 'yogurt', 'chocolate', 'sausage', 'coffee', 'beef', 'frankfurter', 'fish', 'curd', 'canned beer', 'sausage', 'berries', 'whole milk', 'whole milk', 'root vegetables', 'rolls/buns', 'packaged fruit/vegetables', 'beverages', 'sausage', 'frankfurter', 'yogurt', 'tropical fruit', 'ice cream', 'citrus fruit', 'whole milk', 'other vegetables', 'other vegetables', 'other vegetables', 'canned beer', 'sausage', 'yogurt', 'detergent', 'yogurt', 'whole milk', 'berries', 'tropical fruit', 'tropical fruit', 'bottled water', 'meat', 'beef', 'other vegetables', 'other vegetables', 'canned beer', 'citrus fruit', 'herbs', 'soda', 'frozen vegetables', 'beef', 'frankfurter', 'sausage', 'finished products', 'bottled beer', 'curd', 'bottled water', 'frankfurter', 'citrus fruit', 'bottled beer', 'frankfurter', 'packaged fruit/vegetables', 'soda', 'sliced cheese', 'tropical fruit', 'grapes', 'beef', 'berries', 'citrus fruit', 'citrus fruit', 'tropical fruit', 'citrus fruit', 'beef', 'root vegetables', 'coffee', 'ice cream', 'sugar', 'citrus fruit', 'frankfurter', 'root vegetables', 'whole milk', 'bottled water', 'specialty bar', 'tropical fruit', 'sausage', 'whole milk', 'yogurt', 'sausage', 'meat', 'frankfurter', 'packaged fruit/vegetables', 'rolls/buns', 'hamburger meat', 'tropical fruit', 'beef', 'frankfurter', 'frankfurter', 'red/blush wine', 'packaged fruit/vegetables', 'other vegetables', 'pork', 'chicken', 'chicken', 'pork', 'citrus fruit', 'liquor', 'bottled beer', 'berries', 'sparkling wine', 'other vegetables', 'frankfurter', 'newspapers', 'frankfurter', 'bottled water', 'tropical fruit', 'other vegetables', 'whole milk', 'butter', 'hamburger meat', 'beef', 'soda', 'cream cheese ', 'pork', 'specialty bar', 'sausage', 'decalcifier', 'tropical fruit', 'whole milk', 'soda', 'newspapers', 'ham', 'specialty bar', 'ham', 'canned beer', 'ice cream', 'whole milk', 'frankfurter', 'frankfurter', 'whole milk', 'grapes', 'yogurt', 'beef', 'photo/film', 'spread cheese', 'frankfurter', 'sausage', 'whole milk', 'tropical fruit', 'frankfurter', 'whole milk', 'beverages', 'frankfurter', 'hamburger meat', 'sausage', 'whole milk', 'hair spray', 'citrus fruit', 'shopping bags', 'whole milk', 'bottled water', 'citrus fruit', 'rolls/buns', 'chicken', 'citrus fruit', 'soda', 'tropical fruit', 'ice cream', 'frankfurter', 'yogurt', 'onions', 'sausage', 'citrus fruit', 'root vegetables', 'sausage', 'rolls/buns', 'tropical fruit', 'other vegetables', 'domestic eggs', 'root vegetables', 'bottled water', 'whole milk', 'specialty chocolate', 'citrus fruit', 'bottled water', 'sausage', 'whole milk', 'rolls/buns', 'beef', 'sausage', 'whole milk', 'other vegetables', 'root vegetables', 'hamburger meat', 'citrus fruit', 'turkey', 'other vegetables', 'rolls/buns', 'soda', 'soda', 'whole milk', 'pastry', 'cream cheese ', 'root vegetables', 'root vegetables', 'curd', 'hamburger meat', 'frankfurter', 'other vegetables', 'rolls/buns', 'newspapers', 'pastry', 'tropical fruit', 'sausage', 'ice cream', 'packaged fruit/vegetables', 'frankfurter', 'soda', 'grapes', 'frankfurter', 'meat', 'canned beer', 'beef', 'bottled water', 'frankfurter', 'frankfurter', 'frankfurter', 'margarine', 'whole milk', 'coffee', 'pip fruit', 'beef', 'citrus fruit', 'whole milk', 'pork', 'yogurt', 'citrus fruit', 'cling film/bags', 'chicken', 'frankfurter', 'pork', 'chicken', 'domestic eggs', 'meat', 'onions', 'root vegetables', 'rolls/buns', 'root vegetables', 'whole milk', 'rolls/buns', 'beef', 'packaged fruit/vegetables', 'curd', 'sausage', 'dessert', 'whole milk', 'fruit/vegetable juice', 'hamburger meat', 'specialty bar', 'rolls/buns', 'ice cream', 'hamburger meat', 'dog food', 'butter milk', 'whole milk', 'sausage', 'turkey', 'citrus fruit', 'soda', 'whole milk', 'fruit/vegetable juice', 'berries', 'sausage', 'whole milk', 'frankfurter', 'rolls/buns', 'ham', 'onions', 'frankfurter', 'candy', 'artif. sweetener', 'rolls/buns', 'hamburger meat', 'frankfurter', 'fruit/vegetable juice', 'beef', 'beverages', 'pork', 'hygiene articles', 'domestic eggs', 'bottled water', 'vinegar', 'other vegetables', 'pip fruit', 'whole milk', 'tropical fruit', 'frankfurter', 'chocolate', 'frankfurter', 'pip fruit', 'berries', 'tropical fruit', 'frankfurter', 'whole milk', 'tropical fruit', 'specialty bar', 'beef', 'sausage', 'ham', 'canned beer', 'sausage', 'whole milk', 'brown bread', 'berries', 'ham', 'beef', 'domestic eggs', 'UHT-milk', 'root vegetables', 'citrus fruit', 'whole milk', 'specialty bar', 'other vegetables', 'ham', 'rolls/buns', 'bottled beer', 'yogurt', 'white bread', 'hamburger meat', 'butter milk', 'tropical fruit', 'domestic eggs', 'curd', 'citrus fruit', 'sausage', 'specialty chocolate', 'pork', 'canned beer', 'frankfurter', 'whole milk', 'bottled water', 'chicken', 'domestic eggs', 'misc. beverages', 'canned beer', 'rolls/buns', 'root vegetables', 'curd', 'canned beer', 'ham', 'pork', 'hamburger meat', 'rolls/buns', 'frankfurter', 'shopping bags', 'canned beer', 'canned beer', 'other vegetables', 'citrus fruit', 'root vegetables', 'canned beer', 'bottled water', 'frankfurter', 'soda', 'sausage', 'chicken', 'pastry', 'sparkling wine', 'sausage', 'pork', 'chicken', 'tropical fruit', 'bottled beer', 'sausage', 'grapes', 'whole milk', 'sausage', 'hamburger meat', 'chicken', 'rolls/buns', 'other vegetables', 'soda', 'yogurt', 'sausage', 'ice cream', 'whole milk', 'whole milk', 'chocolate', 'herbs', 'dessert', 'popcorn', 'frankfurter', 'pet care', 'other vegetables', 'pork', 'tropical fruit', 'whole milk', 'beef', 'tropical fruit', 'hamburger meat', 'sausage', 'pastry', 'salty snack', 'onions', 'specialty bar', 'meat', 'hamburger meat', 'light bulbs', 'white bread', 'sausage', 'other vegetables', 'other vegetables', 'tropical fruit', 'pip fruit', 'beef', 'whole milk', 'ice cream', 'soda', 'onions', 'root vegetables', 'chicken', 'frankfurter', 'newspapers', 'yogurt', 'packaged fruit/vegetables', 'female sanitary products', 'white bread', 'fruit/vegetable juice', 'whipped/sour cream', 'berries', 'rolls/buns', 'onions', 'canned beer', 'canned beer', 'other vegetables', 'frankfurter', 'chicken', 'chicken', 'rolls/buns', 'pork', 'rolls/buns', 'berries', 'other vegetables', 'curd', 'sausage', 'whole milk', 'onions', 'citrus fruit', 'soda', 'frankfurter', 'salty snack', 'tropical fruit', 'canned beer', 'hamburger meat', 'tropical fruit', 'citrus fruit', 'tropical fruit', 'whole milk', 'pork', 'pork', 'other vegetables', 'whole milk', 'margarine', 'curd', 'brown bread', 'specialty chocolate', 'curd', 'hamburger meat', 'whole milk', 'processed cheese', 'berries', 'pip fruit', 'pork', 'sausage', 'root vegetables', 'bottled water', 'sausage', 'newspapers', 'curd', 'ham', 'sausage', 'sausage', 'other vegetables', 'soda', 'newspapers', 'berries', 'berries', 'berries', 'sausage', 'chocolate', 'bottled water', 'soda', 'UHT-milk', 'meat', 'other vegetables', 'newspapers', 'sausage', 'tropical fruit', 'rolls/buns', 'pork', 'frozen potato products', 'tropical fruit', 'pork', 'root vegetables', 'whole milk', 'grapes', 'pork', 'canned beer', 'other vegetables', 'ham', 'citrus fruit', 'whipped/sour cream', 'other vegetables', 'canned beer', 'sausage', 'frankfurter', 'chicken', 'whole milk', 'soda', 'whole milk', 'whole milk', 'onions', 'berries', 'berries', 'canned beer', 'frozen vegetables', 'frankfurter', 'citrus fruit', 'curd', 'berries', 'citrus fruit', 'beef', 'whole milk', 'rolls/buns', 'curd', 'canned beer', 'other vegetables', 'newspapers', 'tropical fruit', 'whole milk', 'chicken', 'chicken', 'beverages', 'bottled water', 'bottled beer', 'canned beer', 'whole milk', 'sausage', 'rolls/buns', 'salt', 'beef', 'frankfurter', 'beef', 'curd', 'frozen fish', 'potato products', 'sausage', 'tropical fruit', 'pip fruit', 'soap', 'whole milk', 'pastry', 'whole milk', 'tropical fruit', 'frankfurter', 'hamburger meat', 'beef', 'chicken', 'coffee', 'rolls/buns', 'frankfurter', 'baking powder', 'pastry', 'coffee', 'coffee', 'beef', 'bottled water', 'pip fruit', 'berries', 'packaged fruit/vegetables', 'meat', 'pastry', 'sparkling wine', 'rolls/buns', 'rolls/buns', 'grapes', 'rolls/buns', 'whole milk', 'coffee', 'frankfurter', 'bottled water', 'chicken', 'tropical fruit', 'whole milk', 'finished products', 'beef', 'rolls/buns', 'root vegetables', 'canned beer', 'frankfurter', 'curd', 'onions', 'rolls/buns', 'tropical fruit', 'root vegetables', 'pork', 'oil', 'soda', 'beverages', 'other vegetables', 'beef', 'other vegetables', 'frankfurter', 'beef', 'packaged fruit/vegetables', 'chicken', 'beef', 'sugar', 'hamburger meat', 'dessert', 'sausage', 'yogurt', 'butter milk', 'turkey', 'other vegetables', 'pasta', 'frankfurter', 'bottled beer', 'curd', 'hamburger meat', 'citrus fruit', 'misc. beverages', 'sausage', 'yogurt', 'sausage', 'other vegetables', 'hard cheese', 'beef', 'tropical fruit', 'packaged fruit/vegetables', 'coffee', 'frozen dessert', 'whole milk', 'white wine', 'citrus fruit', 'other vegetables', 'soda', 'pork', 'bottled water', 'whole milk', 'pork', 'herbs', 'citrus fruit', 'hamburger meat', 'packaged fruit/vegetables', 'cream cheese ', 'ham', 'cleaner', 'chicken', 'sausage', 'whole milk', 'frankfurter', 'rolls/buns', 'pastry', 'whole milk', 'citrus fruit', 'bottled water', 'ham', 'pet care', 'ham', 'packaged fruit/vegetables', 'pork', 'canned beer', 'curd cheese', 'whole milk', 'root vegetables', 'tropical fruit', 'root vegetables', 'soda', 'other vegetables', 'bottled beer', 'whipped/sour cream', 'sausage', 'bottled beer', 'whipped/sour cream', 'sausage', 'canned beer', 'coffee', 'sausage', 'beef', 'herbs', 'root vegetables', 'rolls/buns', 'frankfurter', 'rolls/buns', 'coffee', 'tropical fruit', 'citrus fruit', 'soda', 'pip fruit', 'rolls/buns', 'meat', 'root vegetables', 'sugar', 'detergent', 'other vegetables', 'canned beer', 'sausage', 'frankfurter', 'pastry', 'photo/film', 'other vegetables', 'meat', 'liquor (appetizer)', 'soda', 'tropical fruit', 'root vegetables', 'other vegetables', 'flour', 'yogurt', 'root vegetables', 'other vegetables', 'frankfurter', 'other vegetables', 'chicken', 'dish cleaner', 'frankfurter', 'rolls/buns', 'pork', 'sausage', 'citrus fruit', 'sugar', 'salt', 'onions', 'tropical fruit', 'canned beer', 'sausage', 'other vegetables', 'frankfurter', 'canned beer', 'beverages', 'bottled water', 'other vegetables', 'whole milk', 'frankfurter', 'sausage', 'butter', 'root vegetables', 'whole milk', 'hamburger meat', 'tropical fruit', 'ham', 'rolls/buns', 'citrus fruit', 'rolls/buns', 'pip fruit', 'citrus fruit', 'sausage', 'citrus fruit', 'whole milk', 'tropical fruit', 'yogurt', 'misc. beverages', 'whole milk', 'beef', 'grapes', 'pork', 'citrus fruit', 'frankfurter', 'whole milk', 'tropical fruit', 'butter', 'whole milk', 'misc. beverages', 'frankfurter', 'frankfurter', 'tropical fruit', 'sausage', 'other vegetables', 'yogurt', 'pork', 'yogurt', 'soda', 'condensed milk', 'frozen meals', 'shopping bags', 'canned beer', 'chicken', 'rolls/buns', 'beef', 'meat', 'yogurt', 'tropical fruit', 'frankfurter', 'pork', 'rolls/buns', 'rolls/buns', 'citrus fruit', 'bottled water', 'tropical fruit', 'beef', 'whole milk', 'soda', 'canned beer', 'newspapers', 'other vegetables', 'frankfurter', 'pork', 'chicken', 'pot plants', 'pork', 'rolls/buns', 'whole milk', 'canned beer', 'ice cream', 'bottled beer', 'sliced cheese', 'pork', 'pot plants', 'soda', 'specialty chocolate', 'whole milk', 'root vegetables', 'pip fruit', 'sausage', 'bottled beer', 'whole milk', 'beef', 'bottled water', 'citrus fruit', 'meat', 'pickled vegetables', 'ham', 'bottled beer', 'curd', 'bottled water', 'brown bread', 'frankfurter', 'chicken', 'Instant food products', 'canned beer', 'frankfurter', 'sausage', 'beverages', 'rolls/buns', 'canned beer', 'sausage', 'citrus fruit', 'beef', 'cream cheese ', 'sausage', 'yogurt', 'root vegetables', 'ham', 'frozen vegetables', 'domestic eggs', 'fish', 'pip fruit', 'house keeping products', 'beef', 'berries', 'ice cream', 'butter milk', 'finished products', 'beef', 'citrus fruit', 'fruit/vegetable juice', 'ice cream', 'beef', 'dessert', 'rolls/buns', 'hamburger meat', 'meat', 'other vegetables', 'citrus fruit', 'coffee', 'tropical fruit', 'frozen dessert', 'UHT-milk', 'whole milk', 'chicken', 'frankfurter', 'other vegetables', 'photo/film', 'pork', 'rolls/buns', 'citrus fruit', 'turkey', 'butter', 'frozen meals', 'pork', 'soda', 'citrus fruit', 'tropical fruit', 'berries', 'frankfurter', 'bottled beer', 'chicken', 'whole milk', 'finished products', 'whole milk', 'curd cheese', 'other vegetables', 'fish', 'chicken']\n"
          ]
        }
      ],
      "source": [
        "title_list = grocery_data['title'].tolist()\n",
        "print(title_list)"
      ]
    },
    {
      "cell_type": "code",
      "execution_count": 18,
      "metadata": {
        "colab": {
          "base_uri": "https://localhost:8080/"
        },
        "id": "x-AIkBzk7lrx",
        "outputId": "65394e37-719f-48c9-df4c-83c98e521c93"
      },
      "outputs": [
        {
          "name": "stdout",
          "output_type": "stream",
          "text": [
            "['sausage', 'sausage', 'sausage']\n"
          ]
        }
      ],
      "source": [
        "findCloseMatch = difflib.get_close_matches(product_name, title_list)\n",
        "print(findCloseMatch)"
      ]
    },
    {
      "cell_type": "code",
      "execution_count": 19,
      "metadata": {
        "colab": {
          "base_uri": "https://localhost:8080/"
        },
        "id": "2NaV9fpR7lzV",
        "outputId": "2c38c5a2-4824-40b4-8349-60e528bdefe2"
      },
      "outputs": [
        {
          "name": "stdout",
          "output_type": "stream",
          "text": [
            "sausage\n"
          ]
        }
      ],
      "source": [
        "closeMatch = findCloseMatch[0]\n",
        "print(closeMatch)"
      ]
    },
    {
      "cell_type": "code",
      "execution_count": 20,
      "metadata": {
        "colab": {
          "base_uri": "https://localhost:8080/"
        },
        "id": "XAE-J8yx7l5b",
        "outputId": "4e3588e3-17a1-406d-f38a-83b027025255"
      },
      "outputs": [
        {
          "name": "stdout",
          "output_type": "stream",
          "text": [
            "2\n"
          ]
        }
      ],
      "source": [
        "groceryIndex = grocery_data[grocery_data.title == closeMatch]['index'].values[0]\n",
        "print(groceryIndex)"
      ]
    },
    {
      "cell_type": "code",
      "execution_count": 21,
      "metadata": {
        "colab": {
          "base_uri": "https://localhost:8080/",
          "height": 359
        },
        "id": "bHxxUG847l-y",
        "outputId": "eefcfa23-1e63-4ecb-8a9c-3f6bae035e1c"
      },
      "outputs": [
        {
          "ename": "IndexError",
          "evalue": "index 2 is out of bounds for axis 0 with size 2",
          "output_type": "error",
          "traceback": [
            "\u001b[1;31m---------------------------------------------------------------------------\u001b[0m",
            "\u001b[1;31mIndexError\u001b[0m                                Traceback (most recent call last)",
            "Input \u001b[1;32mIn [21]\u001b[0m, in \u001b[0;36m<module>\u001b[1;34m\u001b[0m\n\u001b[1;32m----> 1\u001b[0m similarityScore \u001b[38;5;241m=\u001b[39m \u001b[38;5;28mlist\u001b[39m(\u001b[38;5;28menumerate\u001b[39m(\u001b[43msimilarity\u001b[49m\u001b[43m[\u001b[49m\u001b[43mgroceryIndex\u001b[49m\u001b[43m]\u001b[49m))\n\u001b[0;32m      2\u001b[0m \u001b[38;5;28mprint\u001b[39m(similarityScore)\n\u001b[0;32m      3\u001b[0m \u001b[38;5;28mprint\u001b[39m(\u001b[38;5;28mlen\u001b[39m(similarityScore))\n",
            "\u001b[1;31mIndexError\u001b[0m: index 2 is out of bounds for axis 0 with size 2"
          ]
        }
      ],
      "source": [
        "similarityScore = list(enumerate(similarity[groceryIndex]))\n",
        "print(similarityScore)\n",
        "print(len(similarityScore))"
      ]
    },
    {
      "cell_type": "code",
      "execution_count": null,
      "metadata": {
        "id": "hfVFdkgX7mET"
      },
      "outputs": [],
      "source": [
        "similiarProduct = sorted(similarityScore, key = lambda x:x[1], reverse = True)\n",
        "print(similiarProduct)"
      ]
    },
    {
      "cell_type": "code",
      "execution_count": null,
      "metadata": {
        "id": "NHOfXkwG7mI4"
      },
      "outputs": [],
      "source": [
        "print('Movies suggested: \\n')\n",
        "i = 1\n",
        "\n",
        "for item in similiarProduct:\n",
        "   index = item[0]\n",
        "   titleFromIndex = grocery_data[grocery_data.index == index]['title'].values[0]\n",
        "if (i <= 10):\n",
        "    print(i, \".\", titleFromIndex)\n",
        "    i += 1"
      ]
    },
    {
      "cell_type": "code",
      "execution_count": null,
      "metadata": {
        "colab": {
          "base_uri": "https://localhost:8080/",
          "height": 252
        },
        "id": "p7g2n2qH7mNl",
        "outputId": "203c0d45-e225-4b7b-c317-a478208fd3ef"
      },
      "outputs": [
        {
          "name": "stdout",
          "output_type": "stream",
          "text": [
            " Enter Product name : coffee\n"
          ]
        },
        {
          "ename": "IndexError",
          "evalue": "ignored",
          "output_type": "error",
          "traceback": [
            "\u001b[0;31m---------------------------------------------------------------------------\u001b[0m",
            "\u001b[0;31mIndexError\u001b[0m                                Traceback (most recent call last)",
            "\u001b[0;32m<ipython-input-222-5347358698c5>\u001b[0m in \u001b[0;36m<module>\u001b[0;34m()\u001b[0m\n\u001b[1;32m      4\u001b[0m \u001b[0mcloseMatch\u001b[0m \u001b[0;34m=\u001b[0m \u001b[0mfindCloseMatch\u001b[0m\u001b[0;34m[\u001b[0m\u001b[0;36m0\u001b[0m\u001b[0;34m]\u001b[0m\u001b[0;34m\u001b[0m\u001b[0;34m\u001b[0m\u001b[0m\n\u001b[1;32m      5\u001b[0m \u001b[0mgroceryIndex\u001b[0m \u001b[0;34m=\u001b[0m \u001b[0mgrocery_data\u001b[0m\u001b[0;34m[\u001b[0m\u001b[0mgrocery_data\u001b[0m\u001b[0;34m.\u001b[0m\u001b[0mtitle\u001b[0m \u001b[0;34m==\u001b[0m \u001b[0mcloseMatch\u001b[0m\u001b[0;34m]\u001b[0m\u001b[0;34m[\u001b[0m\u001b[0;34m'index'\u001b[0m\u001b[0;34m]\u001b[0m\u001b[0;34m.\u001b[0m\u001b[0mvalues\u001b[0m\u001b[0;34m[\u001b[0m\u001b[0;36m0\u001b[0m\u001b[0;34m]\u001b[0m\u001b[0;34m\u001b[0m\u001b[0;34m\u001b[0m\u001b[0m\n\u001b[0;32m----> 6\u001b[0;31m \u001b[0msimilarityScore\u001b[0m \u001b[0;34m=\u001b[0m \u001b[0mlist\u001b[0m\u001b[0;34m(\u001b[0m\u001b[0menumerate\u001b[0m\u001b[0;34m(\u001b[0m\u001b[0msimilarity\u001b[0m\u001b[0;34m[\u001b[0m\u001b[0mgroceryIndex\u001b[0m\u001b[0;34m]\u001b[0m\u001b[0;34m)\u001b[0m\u001b[0;34m)\u001b[0m\u001b[0;34m\u001b[0m\u001b[0;34m\u001b[0m\u001b[0m\n\u001b[0m\u001b[1;32m      7\u001b[0m \u001b[0msimiliarProduct\u001b[0m \u001b[0;34m=\u001b[0m \u001b[0msorted\u001b[0m\u001b[0;34m(\u001b[0m\u001b[0msimilarityScore\u001b[0m\u001b[0;34m,\u001b[0m \u001b[0mkey\u001b[0m \u001b[0;34m=\u001b[0m \u001b[0;32mlambda\u001b[0m \u001b[0mx\u001b[0m\u001b[0;34m:\u001b[0m\u001b[0mx\u001b[0m\u001b[0;34m[\u001b[0m\u001b[0;36m1\u001b[0m\u001b[0;34m]\u001b[0m\u001b[0;34m,\u001b[0m \u001b[0mreverse\u001b[0m \u001b[0;34m=\u001b[0m \u001b[0;32mTrue\u001b[0m\u001b[0;34m)\u001b[0m\u001b[0;34m\u001b[0m\u001b[0;34m\u001b[0m\u001b[0m\n\u001b[1;32m      8\u001b[0m \u001b[0mprint\u001b[0m\u001b[0;34m(\u001b[0m\u001b[0;34m'Grocery suggested for you : \\n'\u001b[0m\u001b[0;34m)\u001b[0m\u001b[0;34m\u001b[0m\u001b[0;34m\u001b[0m\u001b[0m\n",
            "\u001b[0;31mIndexError\u001b[0m: index 6 is out of bounds for axis 0 with size 2"
          ]
        }
      ],
      "source": [
        "product_name = input(' Enter Product name : ')\n",
        "title_list = grocery_data['title'].tolist()\n",
        "findCloseMatch = difflib.get_close_matches(product_name, title_list)\n",
        "closeMatch = findCloseMatch[0]\n",
        "groceryIndex = grocery_data[grocery_data.title == closeMatch]['index'].values[0]\n",
        "similarityScore = list(enumerate(similarity[groceryIndex]))\n",
        "similiarProduct = sorted(similarityScore, key = lambda x:x[1], reverse = True) \n",
        "print('Grocery suggested for you : \\n')\n",
        "i = 1\n",
        "\n",
        "for item in similiarProduct:\n",
        "   index = item[0]\n",
        "   titleFromIndex = grocery_data[grocery_data.index==index]['title'].values[0]\n",
        "if (i <= 10):\n",
        "   print(i, '.',titleFromIndex)\n",
        "   i+=1"
      ]
    }
  ],
  "metadata": {
    "colab": {
      "collapsed_sections": [],
      "name": "Untitled3.ipynb",
      "provenance": []
    },
    "kernelspec": {
      "display_name": "Python 3",
      "name": "python3"
    },
    "language_info": {
      "codemirror_mode": {
        "name": "ipython",
        "version": 3
      },
      "file_extension": ".py",
      "mimetype": "text/x-python",
      "name": "python",
      "nbconvert_exporter": "python",
      "pygments_lexer": "ipython3",
      "version": "3.8.5"
    }
  },
  "nbformat": 4,
  "nbformat_minor": 0
}
